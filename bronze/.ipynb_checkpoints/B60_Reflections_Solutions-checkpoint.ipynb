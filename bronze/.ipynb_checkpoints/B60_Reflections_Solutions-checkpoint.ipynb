{
 "cells": [
  {
   "cell_type": "markdown",
   "metadata": {},
   "source": [
    "<table>\n",
    "    <tr><td align=\"right\" style=\"background-color:#ffffff;\">\n",
    "        <img src=\"../images/logo.jpg\" width=\"20%\" align=\"right\">\n",
    "    </td></tr>\n",
    "    <tr><td align=\"right\" style=\"color:#777777;background-color:#ffffff;font-size:12px;\">\n",
    "        Abuzer Yakaryilmaz | April 28, 2019 (updated) \n",
    "    </td></tr>\n",
    "    <tr><td align=\"right\" style=\"color:#bbbbbb;background-color:#ffffff;font-size:11px;font-style:italic;\">\n",
    "        This cell contains some macros. If there is a problem with displaying mathematical formulas, please run this cell to load these macros.\n",
    "    </td></tr>\n",
    "</table>\n",
    "$ \\newcommand{\\bra}[1]{\\langle #1|} $\n",
    "$ \\newcommand{\\ket}[1]{|#1\\rangle} $\n",
    "$ \\newcommand{\\braket}[2]{\\langle #1|#2\\rangle} $\n",
    "$ \\newcommand{\\dot}[2]{ #1 \\cdot #2} $\n",
    "$ \\newcommand{\\biginner}[2]{\\left\\langle #1,#2\\right\\rangle} $\n",
    "$ \\newcommand{\\mymatrix}[2]{\\left( \\begin{array}{#1} #2\\end{array} \\right)} $\n",
    "$ \\newcommand{\\myvector}[1]{\\mymatrix{c}{#1}} $\n",
    "$ \\newcommand{\\myrvector}[1]{\\mymatrix{r}{#1}} $\n",
    "$ \\newcommand{\\mypar}[1]{\\left( #1 \\right)} $\n",
    "$ \\newcommand{\\mybigpar}[1]{ \\Big( #1 \\Big)} $\n",
    "$ \\newcommand{\\sqrttwo}{\\frac{1}{\\sqrt{2}}} $\n",
    "$ \\newcommand{\\dsqrttwo}{\\dfrac{1}{\\sqrt{2}}} $\n",
    "$ \\newcommand{\\onehalf}{\\frac{1}{2}} $\n",
    "$ \\newcommand{\\donehalf}{\\dfrac{1}{2}} $\n",
    "$ \\newcommand{\\hadamard}{ \\mymatrix{rr}{ \\sqrttwo & \\sqrttwo \\\\ \\sqrttwo & -\\sqrttwo }} $\n",
    "$ \\newcommand{\\vzero}{\\myvector{1\\\\0}} $\n",
    "$ \\newcommand{\\vone}{\\myvector{0\\\\1}} $\n",
    "$ \\newcommand{\\vhadamardzero}{\\myvector{ \\sqrttwo \\\\  \\sqrttwo } } $\n",
    "$ \\newcommand{\\vhadamardone}{ \\myrvector{ \\sqrttwo \\\\ -\\sqrttwo } } $\n",
    "$ \\newcommand{\\myarray}[2]{ \\begin{array}{#1}#2\\end{array}} $\n",
    "$ \\newcommand{\\X}{ \\mymatrix{cc}{0 & 1 \\\\ 1 & 0}  } $\n",
    "$ \\newcommand{\\Z}{ \\mymatrix{rr}{1 & 0 \\\\ 0 & -1}  } $\n",
    "$ \\newcommand{\\Htwo}{ \\mymatrix{rrrr}{ \\frac{1}{2} & \\frac{1}{2} & \\frac{1}{2} & \\frac{1}{2} \\\\ \\frac{1}{2} & -\\frac{1}{2} & \\frac{1}{2} & -\\frac{1}{2} \\\\ \\frac{1}{2} & \\frac{1}{2} & -\\frac{1}{2} & -\\frac{1}{2} \\\\ \\frac{1}{2} & -\\frac{1}{2} & -\\frac{1}{2} & \\frac{1}{2} } } $\n",
    "$ \\newcommand{\\CNOT}{ \\mymatrix{cccc}{1 & 0 & 0 & 0 \\\\ 0 & 1 & 0 & 0 \\\\ 0 & 0 & 0 & 1 \\\\ 0 & 0 & 1 & 0} } $\n",
    "$ \\newcommand{\\norm}[1]{ \\left\\lVert #1 \\right\\rVert } $"
   ]
  },
  {
   "cell_type": "markdown",
   "metadata": {},
   "source": [
    "<h2> <font color=\"blue\"> Solutions for </font>Reflections</h2>"
   ]
  },
  {
   "cell_type": "markdown",
   "metadata": {},
   "source": [
    "<a id=\"task3\"></a>\n",
    "<h3> Task 3 </h3>\n",
    "\n",
    "Visually verify that Hadamard operator reflects the states on the same row to each other.\n",
    "\n",
    "For the second, third, and fourth row, draw the line of reflection for Hadamard operator and the states.\n",
    "\n",
    "$$\n",
    "    \\myarray{|c|c|c|c|}{\n",
    "        \\hline\n",
    "        A & \\ket{0} = \\vzero & E & \\ket{+} = \\myrvector{\\sqrttwo \\\\ \\sqrttwo}\n",
    "        \\\\ \\hline\n",
    "        B & \\ket{1} = \\vone & F & \\ket{-} = \\myrvector{\\sqrttwo \\\\ -\\sqrttwo}\n",
    "        \\\\ \\hline\n",
    "        C & -\\ket{0} = \\myrvector{-1 \\\\ 0} & G & -\\ket{+} = \\myrvector{-\\sqrttwo \\\\ -\\sqrttwo}\n",
    "        \\\\ \\hline\n",
    "        D & -\\ket{1} = \\myrvector{0 \\\\ -1} & H & -\\ket{-} = \\myrvector{-\\sqrttwo \\\\ \\sqrttwo}\n",
    "        \\\\ \\hline\n",
    "    }\n",
    "$$"
   ]
  },
  {
   "cell_type": "markdown",
   "metadata": {},
   "source": [
    "<h3>Solution</h3>"
   ]
  },
  {
   "cell_type": "markdown",
   "metadata": {},
   "source": [
    "<b> The second row</b>"
   ]
  },
  {
   "cell_type": "code",
   "execution_count": 2,
   "metadata": {},
   "outputs": [
    {
     "data": {
      "image/png": "[encoded data removed]",
      "text/plain": [
       "<Figure size 360x360 with 1 Axes>"
      ]
     },
     "metadata": {
      "needs_background": "light"
     },
     "output_type": "display_data"
    }
   ],
   "source": [
    "%run qlatvia.py\n",
    "\n",
    "draw_qubit()\n",
    "\n",
    "# line of reflection for Hadamard\n",
    "from matplotlib.pyplot import arrow\n",
    "arrow(-1.109,-0.459,2.218,0.918,linestyle='dotted',color='red')\n",
    "\n",
    "sqrttwo=2**0.5\n",
    "\n",
    "draw_quantum_state(0,1,\"\")\n",
    "\n",
    "draw_quantum_state(1/sqrttwo,-1/sqrttwo,\"|->\")"
   ]
  },
  {
   "cell_type": "markdown",
   "metadata": {},
   "source": [
    "<b> The third row</b>"
   ]
  },
  {
   "cell_type": "code",
   "execution_count": null,
   "metadata": {},
   "outputs": [],
   "source": [
    "%run qlatvia.py\n",
    "\n",
    "draw_qubit()\n",
    "\n",
    "# line of reflection for Hadamard\n",
    "from matplotlib.pyplot import arrow\n",
    "arrow(-1.109,-0.459,2.218,0.918,linestyle='dotted',color='red')\n",
    "\n",
    "sqrttwo=2**0.5\n",
    "\n",
    "draw_quantum_state(-1,0,\"\")\n",
    "\n",
    "draw_quantum_state(-1/sqrttwo,-1/sqrttwo,\"-|+>\")"
   ]
  },
  {
   "cell_type": "markdown",
   "metadata": {},
   "source": [
    "<b> The fourth row</b>"
   ]
  },
  {
   "cell_type": "code",
   "execution_count": null,
   "metadata": {},
   "outputs": [],
   "source": [
    "%run qlatvia.py\n",
    "\n",
    "draw_qubit()\n",
    "\n",
    "# line of reflection for Hadamard\n",
    "from matplotlib.pyplot import arrow\n",
    "arrow(-1.109,-0.459,2.218,0.918,linestyle='dotted',color='red')\n",
    "\n",
    "sqrttwo=2**0.5\n",
    "\n",
    "draw_quantum_state(0,-1,\"\")\n",
    "\n",
    "draw_quantum_state(-1/sqrttwo,1/sqrttwo,\"-|->\")"
   ]
  },
  {
   "cell_type": "markdown",
   "metadata": {},
   "source": [
    "<b> Random quantum states</b>"
   ]
  },
  {
   "cell_type": "markdown",
   "metadata": {},
   "source": [
    "A function for randomly creating a 2-dimensional quantum state:"
   ]
  },
  {
   "cell_type": "code",
   "execution_count": null,
   "metadata": {},
   "outputs": [],
   "source": [
    "# randomly create a 2-dimensional quantum state\n",
    "from math import cos, sin, pi\n",
    "from random import randrange\n",
    "def random_quantum_state2():\n",
    "    angle_degree = randrange(360)\n",
    "    angle_radian = 2*pi*angle_degree/360\n",
    "    return [cos(angle_radian),sin(angle_radian)]"
   ]
  },
  {
   "cell_type": "code",
   "execution_count": null,
   "metadata": {},
   "outputs": [],
   "source": [
    "%run qlatvia.py\n",
    "\n",
    "draw_qubit()\n",
    "\n",
    "# line of reflection for Hadamard\n",
    "from matplotlib.pyplot import arrow\n",
    "arrow(-1.109,-0.459,2.218,0.918,linestyle='dotted',color='red')\n",
    "\n",
    "[x1,y1] = random_quantum_state2()\n",
    "\n",
    "print(x1,y1)\n",
    "\n",
    "sqrttwo=2**0.5\n",
    "oversqrttwo = 1/sqrttwo\n",
    "\n",
    "[x2,y2] = [ oversqrttwo*x1 + oversqrttwo*y1 , oversqrttwo*x1 - oversqrttwo*y1 ]\n",
    "\n",
    "print(x2,y2)\n",
    "\n",
    "draw_quantum_state(x1,y1,\"main\")\n",
    "\n",
    "draw_quantum_state(x2,y2,\"ref\")"
   ]
  },
  {
   "cell_type": "markdown",
   "metadata": {},
   "source": [
    "<a id=\"task4\"></a>\n",
    "<h3> Task 4 </h3>\n",
    "\n",
    "Find the matrix representing the reflection over $x$-axis.\n",
    "\n",
    "Randomly create a quantum state and multiply it with this matrix to find its reflection over $x$-axis.\n",
    "\n",
    "Draw both states.\n",
    "\n",
    "Repeat the task for a few times."
   ]
  },
  {
   "cell_type": "markdown",
   "metadata": {},
   "source": [
    "<h3>Solution</h3>"
   ]
  },
  {
   "cell_type": "markdown",
   "metadata": {},
   "source": [
    "The reflection over $x$-axis changes the sign of the second amplitude.\n",
    "\n",
    "This is operator $ Z = \\mymatrix{rr}{1 & 0 \\\\ 0 & -1} $."
   ]
  },
  {
   "cell_type": "markdown",
   "metadata": {},
   "source": [
    "A function for randomly creating a 2-dimensional quantum state:"
   ]
  },
  {
   "cell_type": "code",
   "execution_count": null,
   "metadata": {},
   "outputs": [],
   "source": [
    "# randomly create a 2-dimensional quantum state\n",
    "from math import cos, sin, pi\n",
    "from random import randrange\n",
    "def random_quantum_state2():\n",
    "    angle_degree = randrange(360)\n",
    "    angle_radian = 2*pi*angle_degree/360\n",
    "    return [cos(angle_radian),sin(angle_radian)]"
   ]
  },
  {
   "cell_type": "markdown",
   "metadata": {},
   "source": [
    "Reflecting the randomly picked quantum state over $x$-axis. "
   ]
  },
  {
   "cell_type": "code",
   "execution_count": null,
   "metadata": {},
   "outputs": [],
   "source": [
    "%run qlatvia.py\n",
    "\n",
    "draw_qubit()\n",
    "\n",
    "[x1,y1] = random_quantum_state2()\n",
    "\n",
    "[x2,y2] = [x1,-y1]\n",
    "\n",
    "draw_quantum_state(x1,y1,\"main\")\n",
    "draw_quantum_state(x2,y2,\"ref\")"
   ]
  },
  {
   "cell_type": "markdown",
   "metadata": {},
   "source": [
    "<a id=\"task6\"></a>\n",
    "<h3> Task 6 </h3>\n",
    "\n",
    "Find the matrix representing the reflection over the line $y=x$.\n",
    "\n",
    "<i> Hint:</i> Think about the reflections of the points $ \\myrvector{0 \\\\ 1} $, $ \\myrvector{-1 \\\\ 0} $, and $ \\myrvector{-\\sqrttwo \\\\ \\sqrttwo} $ over the line $y=x$.\n",
    "\n",
    "Randomly create a quantum state and multiply it with this matrix to find its reflection over the line $y = x$.\n",
    "\n",
    "Draw both states.\n",
    "\n",
    "Repeat the task for a few times."
   ]
  },
  {
   "cell_type": "markdown",
   "metadata": {},
   "source": [
    "<h3>Solution</h3>"
   ]
  },
  {
   "cell_type": "markdown",
   "metadata": {},
   "source": [
    "The reflection over the line $y=x$ swaps the first and second amplitudes.\n",
    "\n",
    "This is exactly NOT operator: $ X = \\mymatrix{rr}{0 & 1 \\\\ 1 & 0} $."
   ]
  },
  {
   "cell_type": "markdown",
   "metadata": {},
   "source": [
    "A function for randomly creating a 2-dimensional quantum state:"
   ]
  },
  {
   "cell_type": "code",
   "execution_count": null,
   "metadata": {},
   "outputs": [],
   "source": [
    "# randomly create a 2-dimensional quantum state\n",
    "from math import cos, sin, pi\n",
    "from random import randrange\n",
    "def random_quantum_state2():\n",
    "    angle_degree = randrange(360)\n",
    "    angle_radian = 2*pi*angle_degree/360\n",
    "    return [cos(angle_radian),sin(angle_radian)]"
   ]
  },
  {
   "cell_type": "markdown",
   "metadata": {},
   "source": [
    "Reflecting the randomly picked quantum state over the line $y=x$. "
   ]
  },
  {
   "cell_type": "markdown",
   "metadata": {},
   "source": [
    "<a id=\"task7\"></a>\n",
    "<h3>Task 7</h3>\n",
    "\n",
    "Let $\\ket{v}=\\myvector{\\cos(\\theta) \\\\ \\sin(\\theta) }$ be an arbitrary quantum state.\n",
    "\n",
    "Find the matrix $2\\ket{v}\\bra{v}-I$. Does it look familiar?  (Recall that $\\bra{v}=v^T$) \n",
    "\n",
    "Hint: The following may be useful.\n",
    "\n",
    "<i> $\\sin(2\\theta) = 2\\sin(\\theta)cos(\\theta)$\n",
    "    \n",
    "$\\cos(2\\theta) = 1 - 2\\sin^2(\\theta) = 2\\cos^2(\\theta)-1 $\n",
    "   </i>\n",
    "    \n",
    "    \n",
    "    "
   ]
  },
  {
   "cell_type": "markdown",
   "metadata": {},
   "source": [
    "<h3>Solution</h3>"
   ]
  },
  {
   "cell_type": "markdown",
   "metadata": {},
   "source": [
    "$$ 2 \\myvector{\\cos(\\theta) \\\\ \\sin(\\theta) } \\myvector{\\cos(\\theta) & \\sin(\\theta) } - I = 2\\mymatrix{cc}{\\cos^2(\\theta) & \\cos(\\theta)\\sin(\\theta) \\\\ \\sin(\\theta)cos(\\theta) & \\sin^2(\\theta)\n",
    "} - \\mymatrix{cccc}{1&0&0&0\\\\0&1&0&0 \\\\ 0&0&1&0\\\\0&0&0&1} =\\mymatrix{cc}{2\\cos^2(\\theta) -1 & 2\\cos(\\theta)\\sin(\\theta) \\\\ 2\\sin(\\theta)cos(\\theta) & 2\\sin^2(\\theta)-1\n",
    "}  $$"
   ]
  },
  {
   "cell_type": "markdown",
   "metadata": {},
   "source": [
    "$$=\\mymatrix{cc}{\\cos(2\\theta) & \\sin(2\\theta)\\\\ \\sin(2\\theta) & -\\cos(2\\theta)\n",
    "}$$\n"
   ]
  },
  {
   "cell_type": "markdown",
   "metadata": {},
   "source": [
    "This matrix is exactly the matrix of reflection where the angle of the line of reflection is $\\theta$, that is $\\mathrm{Ref}(\\theta)$."
   ]
  }
 ],
 "metadata": {
  "kernelspec": {
   "display_name": "Python 3",
   "language": "python",
   "name": "python3"
  },
  "language_info": {
   "codemirror_mode": {
    "name": "ipython",
    "version": 3
   },
   "file_extension": ".py",
   "mimetype": "text/x-python",
   "name": "python",
   "nbconvert_exporter": "python",
   "pygments_lexer": "ipython3",
   "version": "3.7.3"
  }
 },
 "nbformat": 4,
 "nbformat_minor": 2
}
