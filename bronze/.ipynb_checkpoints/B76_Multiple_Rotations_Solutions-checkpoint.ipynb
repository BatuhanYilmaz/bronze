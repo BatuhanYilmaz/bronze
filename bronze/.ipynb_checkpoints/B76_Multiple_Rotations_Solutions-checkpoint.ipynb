{
 "cells": [
  {
   "cell_type": "markdown",
   "metadata": {},
   "source": [
    "<table>\n",
    "    <tr><td align=\"right\" style=\"background-color:#ffffff;\">\n",
    "        <img src=\"../images/logo.jpg\" width=\"20%\" align=\"right\">\n",
    "    </td></tr>\n",
    "    <tr><td align=\"right\" style=\"color:#777777;background-color:#ffffff;font-size:12px;\">\n",
    "        Abuzer Yakaryilmaz | April 30, 2019 (updated)<br> \n",
    "        Özlem Salehi | July 06, 2019 (updated)\n",
    "    </td></tr>\n",
    "    <tr><td align=\"right\" style=\"color:#bbbbbb;background-color:#ffffff;font-size:11px;font-style:italic;\">\n",
    "        This cell contains some macros. If there is a problem with displaying mathematical formulas, please run this cell to load these macros.\n",
    "    </td></tr>\n",
    "</table>\n",
    "$ \\newcommand{\\bra}[1]{\\langle #1|} $\n",
    "$ \\newcommand{\\ket}[1]{|#1\\rangle} $\n",
    "$ \\newcommand{\\braket}[2]{\\langle #1|#2\\rangle} $\n",
    "$ \\newcommand{\\dot}[2]{ #1 \\cdot #2} $\n",
    "$ \\newcommand{\\biginner}[2]{\\left\\langle #1,#2\\right\\rangle} $\n",
    "$ \\newcommand{\\mymatrix}[2]{\\left( \\begin{array}{#1} #2\\end{array} \\right)} $\n",
    "$ \\newcommand{\\myvector}[1]{\\mymatrix{c}{#1}} $\n",
    "$ \\newcommand{\\myrvector}[1]{\\mymatrix{r}{#1}} $\n",
    "$ \\newcommand{\\mypar}[1]{\\left( #1 \\right)} $\n",
    "$ \\newcommand{\\mybigpar}[1]{ \\Big( #1 \\Big)} $\n",
    "$ \\newcommand{\\sqrttwo}{\\frac{1}{\\sqrt{2}}} $\n",
    "$ \\newcommand{\\dsqrttwo}{\\dfrac{1}{\\sqrt{2}}} $\n",
    "$ \\newcommand{\\onehalf}{\\frac{1}{2}} $\n",
    "$ \\newcommand{\\donehalf}{\\dfrac{1}{2}} $\n",
    "$ \\newcommand{\\hadamard}{ \\mymatrix{rr}{ \\sqrttwo & \\sqrttwo \\\\ \\sqrttwo & -\\sqrttwo }} $\n",
    "$ \\newcommand{\\vzero}{\\myvector{1\\\\0}} $\n",
    "$ \\newcommand{\\vone}{\\myvector{0\\\\1}} $\n",
    "$ \\newcommand{\\vhadamardzero}{\\myvector{ \\sqrttwo \\\\  \\sqrttwo } } $\n",
    "$ \\newcommand{\\vhadamardone}{ \\myrvector{ \\sqrttwo \\\\ -\\sqrttwo } } $\n",
    "$ \\newcommand{\\myarray}[2]{ \\begin{array}{#1}#2\\end{array}} $\n",
    "$ \\newcommand{\\X}{ \\mymatrix{cc}{0 & 1 \\\\ 1 & 0}  } $\n",
    "$ \\newcommand{\\Z}{ \\mymatrix{rr}{1 & 0 \\\\ 0 & -1}  } $\n",
    "$ \\newcommand{\\Htwo}{ \\mymatrix{rrrr}{ \\frac{1}{2} & \\frac{1}{2} & \\frac{1}{2} & \\frac{1}{2} \\\\ \\frac{1}{2} & -\\frac{1}{2} & \\frac{1}{2} & -\\frac{1}{2} \\\\ \\frac{1}{2} & \\frac{1}{2} & -\\frac{1}{2} & -\\frac{1}{2} \\\\ \\frac{1}{2} & -\\frac{1}{2} & -\\frac{1}{2} & \\frac{1}{2} } } $\n",
    "$ \\newcommand{\\CNOT}{ \\mymatrix{cccc}{1 & 0 & 0 & 0 \\\\ 0 & 1 & 0 & 0 \\\\ 0 & 0 & 0 & 1 \\\\ 0 & 0 & 1 & 0} } $\n",
    "$ \\newcommand{\\norm}[1]{ \\left\\lVert #1 \\right\\rVert } $"
   ]
  },
  {
   "cell_type": "markdown",
   "metadata": {},
   "source": [
    "<h2> <font color=\"blue\"> Solutions for </font> Multiple Rotations</h2>"
   ]
  },
  {
   "cell_type": "markdown",
   "metadata": {},
   "source": [
    "<a id=\"task1\"></a>\n",
    "<h3> Task 1 </h3>\n",
    "\n",
    "Verify that the printed matrix is $ R(\\pi/4,\\pi/6) $."
   ]
  },
  {
   "cell_type": "markdown",
   "metadata": {},
   "source": [
    "<h3>Solution</h3>"
   ]
  },
  {
   "cell_type": "code",
   "execution_count": null,
   "metadata": {},
   "outputs": [],
   "source": [
    "from math import pi, sin, cos\n",
    "\n",
    "theta1 = pi/4\n",
    "theta2 = pi/6\n",
    "\n",
    "print(round(cos(theta1),3),-round(sin(theta1),3),0,0)\n",
    "print(round(sin(theta1),3),-round(cos(theta1),3),0,0)\n",
    "print(0,0,round(cos(theta2),3),-round(sin(theta2),3))\n",
    "print(0,0,round(sin(theta2),3),-round(cos(theta2),3))"
   ]
  },
  {
   "cell_type": "markdown",
   "metadata": {},
   "source": [
    "<a id=\"task2\"></a>\n",
    "<h3> Task 2</h3>\n",
    "\n",
    "Consider a quantum circuit with 3 qubits.\n",
    "\n",
    "When $qreg[2]$ is in state $ \\ket{1} $, apply the gate \n",
    "\n",
    "    cu3(2*theta1,0,0,qreg[2],qreg[0]) \n",
    "\n",
    "When $qreg[1]$ is in state $ \\ket{1} $, apply the gate\n",
    "    \n",
    "    cu3(2*theta2,0,0,qreg[1],qreg[0])\n",
    "    \n",
    "When $qreg[2]$ is in state $ \\ket{0} $, apply the gate\n",
    "\n",
    "    cu3(2*theta3,0,0,qreg[2],qreg[0])\n",
    "\n",
    "Guess the corresponding unitary matrix, which should be of the form:\n",
    "\n",
    "$$\n",
    "    \\mymatrix{rr|rr|rr|rr}{\n",
    "        \\cos a_1 & -\\sin a_1 & 0 & 0 & 0 & 0 & 0 & 0 \\\\\n",
    "        \\sin a_1 & \\cos a_1 & 0 & 0 & 0 & 0 & 0 & 0 \\\\ \\hline\n",
    "        0 & 0 & \\cos a_2 & -\\sin a_2 & 0 & 0 & 0 & 0  \\\\\n",
    "         0 & 0 & \\sin a_2 & \\cos a_2 & 0 & 0 & 0 & 0 \\\\ \\hline\n",
    "        0 & 0 & 0 & 0 & \\cos a_3 & -\\sin a_3 & 0 & 0  \\\\\n",
    "         0 & 0 & 0 & 0 & \\sin a_3 & \\cos a_3 & 0 & 0  \\\\ \\hline\n",
    "        0 & 0 & 0 & 0 & 0 & 0 & \\cos a_4 & -\\sin a_4 \\\\\n",
    "        0 & 0 & 0 & 0 & 0 & 0 & \\sin a_4 & \\cos a_4 \\\\ \n",
    "    }\n",
    "$$\n",
    "\n",
    "In other words, find $a_1$, $ a_2 $, $a_3$, and $a_4$ in terms of $ \\theta_1 $, $\\theta_2$, and $ \\theta_3 $."
   ]
  },
  {
   "cell_type": "markdown",
   "metadata": {},
   "source": [
    "<h3>Solution</h3>"
   ]
  },
  {
   "cell_type": "markdown",
   "metadata": {},
   "source": [
    "We use a table to easily trace the rotations applied to the first qubit:\n",
    "\n",
    "$$\n",
    "    \\myarray{|c|c|c|c|l|}{\n",
    "    \\hline\n",
    "      qreg[2]qreg[1] & qreg[2] = \\ket{1} &  qreg[1] = \\ket{1} &  qreg[2] = \\ket{0} & rotations \\\\ \\hline\n",
    "      00 & & & \\theta_3 & a_1 =  \\theta_3 \\\\ \\hline\n",
    "      01 & & \\theta_2 & \\theta_3 & a_2 =  \\theta_2 + \\theta_3 \\\\ \\hline\n",
    "      10 & \\theta_1 & &  & a_3 =  \\theta_1 \\\\ \\hline\n",
    "      11 & \\theta_1 & \\theta_2 &  & a_4 =  \\theta_1 + \\theta_2 \\\\ \\hline\n",
    "    }\n",
    "$$"
   ]
  },
  {
   "cell_type": "markdown",
   "metadata": {},
   "source": [
    "<a id=\"task4\"></a>\n",
    "<h3>Task 4</h3>\n",
    "\n",
    "Create a circuit for solving problem $ \\sf MOD_{61} $ by using the above implementation.\n",
    "\n",
    "Pick $ \\theta_1 $, $ \\theta_2 $, $ \\theta_3 $, and $ \\theta_4 $ randomly.\n",
    "\n",
    "At the beginning of the stream and after reading the stream, apply Hadamard operators to each qubit.\n",
    "\n",
    "Execute your quantum program on the streams of lengths 1, 11, 21, 31, 41, 51, and 61."
   ]
  },
  {
   "cell_type": "markdown",
   "metadata": {},
   "source": [
    "<h3>Solution</h3>"
   ]
  },
  {
   "cell_type": "code",
   "execution_count": 1,
   "metadata": {},
   "outputs": [
    {
     "name": "stdout",
     "output_type": "stream",
     "text": [
      "stream of length 1 is being read\n",
      "{'0100': 211, '0010': 267, '0101': 184, '0000': 106, '0110': 90, '0001': 25, '0011': 103, '0111': 14}\n",
      "0000 is observed 106 times out of 1000\n",
      "the ration of 0000 is  10.6 %\n",
      "\n",
      "stream of length 11 is being read\n",
      "{'0100': 58, '0010': 169, '0101': 158, '0000': 59, '0110': 39, '0001': 216, '0011': 93, '0111': 208}\n",
      "0000 is observed 59 times out of 1000\n",
      "the ration of 0000 is  5.9 %\n",
      "\n",
      "stream of length 21 is being read\n",
      "{'0100': 32, '0010': 36, '0101': 350, '0000': 11, '0110': 161, '0001': 151, '0011': 117, '0111': 142}\n",
      "0000 is observed 11 times out of 1000\n",
      "the ration of 0000 is  1.1 %\n",
      "\n",
      "stream of length 31 is being read\n",
      "{'0001': 38, '0100': 97, '0010': 72, '0101': 534, '0011': 29, '0111': 52, '0110': 178}\n",
      "0000 is observed 0 times out of 1000\n",
      "the ration of 0000 is  0.0 %\n",
      "\n",
      "stream of length 41 is being read\n",
      "{'0100': 513, '0010': 13, '0101': 53, '0000': 2, '0110': 6, '0001': 261, '0011': 63, '0111': 89}\n",
      "0000 is observed 2 times out of 1000\n",
      "the ration of 0000 is  0.2 %\n",
      "\n",
      "stream of length 51 is being read\n",
      "{'0001': 475, '0100': 129, '0010': 23, '0101': 70, '0011': 2, '0000': 284, '0110': 17}\n",
      "0000 is observed 284 times out of 1000\n",
      "the ration of 0000 is  28.4 %\n",
      "\n",
      "stream of length 61 is being read\n",
      "{'0000': 1000}\n",
      "0000 is observed 1000 times out of 1000\n",
      "the ration of 0000 is  100.0 %\n",
      "\n",
      "maximum percentage of observing unwanted '0000' is 28.4\n"
     ]
    }
   ],
   "source": [
    "from qiskit import QuantumRegister, ClassicalRegister, QuantumCircuit, execute, Aer\n",
    "from math import pi,sin\n",
    "from random import randrange\n",
    "\n",
    "# the angle of rotation\n",
    "k1 = randrange(1,61)\n",
    "theta1 = k1*2*pi/61\n",
    "k2 = randrange(1,61)\n",
    "theta2 = k2*2*pi/61\n",
    "k3 = randrange(1,61)\n",
    "theta3 = k3*2*pi/61\n",
    "k4 = randrange(1,61)\n",
    "theta4 = k4*2*pi/61\n",
    "\n",
    "max_percentange = 0\n",
    "\n",
    "# for each stream of length of 1, 11, 21, 31, 41, 51, and 61\n",
    "for i in [1,11,21,31,41,51,61]: \n",
    "#for i in range(1,62): \n",
    "    # initialize the circuit\n",
    "    qreg =  QuantumRegister(4) \n",
    "    creg = ClassicalRegister(4)\n",
    "    circuit = QuantumCircuit(qreg,creg)\n",
    "\n",
    "    # Hadamard operators before reading the stream\n",
    "    for m in range(3):\n",
    "        circuit.h(qreg[m])   \n",
    "        \n",
    "    # read the stream of length i\n",
    "    print(\"stream of length\",i,\"is being read\")\n",
    "    for j in range(i):         \n",
    "        # qreg[2] is in |0>\n",
    "        # qreg[1] is in |0>\n",
    "        circuit.x(qreg[2])\n",
    "        circuit.x(qreg[1])\n",
    "        circuit.ccx(qreg[2],qreg[1],qreg[3])\n",
    "        circuit.cu3(2*theta1,0,0,qreg[3],qreg[0])\n",
    "        # reverse the effects\n",
    "        circuit.ccx(qreg[2],qreg[1],qreg[3])\n",
    "        circuit.x(qreg[1])\n",
    "        circuit.x(qreg[2])\n",
    "\n",
    "\n",
    "        # qreg[2] is in |0>\n",
    "        # qreg[1] is in |1>\n",
    "        circuit.x(qreg[2])\n",
    "        circuit.ccx(qreg[2],qreg[1],qreg[3])\n",
    "        circuit.cu3(2*theta2,0,0,qreg[3],qreg[0])\n",
    "        # reverse the effects\n",
    "        circuit.ccx(qreg[2],qreg[1],qreg[3])\n",
    "        circuit.x(qreg[2])\n",
    "\n",
    "        # qreg[2] is in |1>\n",
    "        # qreg[1] is in |0>\n",
    "        circuit.x(qreg[1])\n",
    "        circuit.ccx(qreg[2],qreg[1],qreg[3])\n",
    "        circuit.cu3(2*theta3,0,0,qreg[3],qreg[0])\n",
    "        # reverse the effects\n",
    "        circuit.ccx(qreg[2],qreg[1],qreg[3])\n",
    "        circuit.x(qreg[1])\n",
    "\n",
    "        # qreg[2] is in |1>\n",
    "        # qreg[1] is in |1>\n",
    "        circuit.ccx(qreg[2],qreg[1],qreg[3])\n",
    "        circuit.cu3(2*theta4,0,0,qreg[3],qreg[0])\n",
    "        # reverse the effects\n",
    "        circuit.ccx(qreg[2],qreg[1],qreg[3])\n",
    "        \n",
    "    # Hadamard operators after reading the stream\n",
    "    for m in range(3):\n",
    "        circuit.h(qreg[m])  \n",
    "    # we measure after reading the whole stream\n",
    "    circuit.measure(qreg,creg)\n",
    "    # execute the circuit N times\n",
    "    N = 1000\n",
    "    job = execute(circuit,Aer.get_backend('qasm_simulator'),shots=N)\n",
    "    counts = job.result().get_counts(circuit)\n",
    "    print(counts)\n",
    "    if '0000' in counts.keys():\n",
    "        c = counts['0000']\n",
    "    else:\n",
    "        c = 0\n",
    "    print('0000 is observed',c,'times out of',N)\n",
    "    percentange = round(c/N*100,1)\n",
    "    if max_percentange < percentange and i != 61: max_percentange = percentange\n",
    "    print(\"the ration of 0000 is \",percentange,\"%\")\n",
    "    print()  \n",
    "print(\"maximum percentage of observing unwanted '0000' is\",max_percentange)"
   ]
  },
  {
   "cell_type": "markdown",
   "metadata": {},
   "source": [
    "<a id=\"task5\"></a>\n",
    "<h3> Task 5 </h3>\n",
    "\n",
    "How many qubits we use to implement the main construction having 16 rotations in parallel?\n",
    "\n",
    "Please specify the number of control qubits and auxiliary qubits."
   ]
  },
  {
   "cell_type": "markdown",
   "metadata": {},
   "source": [
    "<h3>Solution</h3>"
   ]
  },
  {
   "cell_type": "markdown",
   "metadata": {},
   "source": [
    "For 16 rotations, we use 4 control qubits and 1 target qubit.\n",
    "\n",
    "For each pair of control qubits, we use 1 auxillary qubit. \n",
    "\n",
    "For 4 control qubits, we use two auxiliary qubits. \n",
    "\n",
    "Then, we use one more auxiliary qubit controlled by these two auxiliary qubits.\n",
    "\n",
    "So, we need 4 control + 1 target + 3 auxiliary = 8 total qubits."
   ]
  },
  {
   "cell_type": "code",
   "execution_count": null,
   "metadata": {},
   "outputs": [],
   "source": []
  }
 ],
 "metadata": {
  "kernelspec": {
   "display_name": "Python 3",
   "language": "python",
   "name": "python3"
  },
  "language_info": {
   "codemirror_mode": {
    "name": "ipython",
    "version": 3
   },
   "file_extension": ".py",
   "mimetype": "text/x-python",
   "name": "python",
   "nbconvert_exporter": "python",
   "pygments_lexer": "ipython3",
   "version": "3.7.3"
  }
 },
 "nbformat": 4,
 "nbformat_minor": 2
}
