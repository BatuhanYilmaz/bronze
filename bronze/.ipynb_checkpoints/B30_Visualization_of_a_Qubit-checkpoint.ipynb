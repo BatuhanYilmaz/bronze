{
 "cells": [
  {
   "cell_type": "markdown",
   "metadata": {},
   "source": [
    "<table>\n",
    "    <tr><td align=\"right\" style=\"background-color:#ffffff;\">\n",
    "        <img src=\"../images/logo.jpg\" width=\"20%\" align=\"right\">\n",
    "    </td></tr>\n",
    "    <tr><td align=\"right\" style=\"color:#777777;background-color:#ffffff;font-size:12px;\">\n",
    "        Abuzer Yakaryilmaz | June 16, 2019 (updated) <br>\n",
    "        Özlem Salehi | July 03, 2019 (updated)\n",
    "    </td></tr>\n",
    "    <tr><td align=\"right\" style=\"color:#bbbbbb;background-color:#ffffff;font-size:11px;font-style:italic;\">\n",
    "        This cell contains some macros. If there is a problem with displaying mathematical formulas, please run this cell to load these macros.\n",
    "    </td></tr>\n",
    "</table>\n",
    "$ \\newcommand{\\bra}[1]{\\langle #1|} $\n",
    "$ \\newcommand{\\ket}[1]{|#1\\rangle} $\n",
    "$ \\newcommand{\\braket}[2]{\\langle #1|#2\\rangle} $\n",
    "$ \\newcommand{\\dot}[2]{ #1 \\cdot #2} $\n",
    "$ \\newcommand{\\biginner}[2]{\\left\\langle #1,#2\\right\\rangle} $\n",
    "$ \\newcommand{\\mymatrix}[2]{\\left( \\begin{array}{#1} #2\\end{array} \\right)} $\n",
    "$ \\newcommand{\\myvector}[1]{\\mymatrix{c}{#1}} $\n",
    "$ \\newcommand{\\myrvector}[1]{\\mymatrix{r}{#1}} $\n",
    "$ \\newcommand{\\mypar}[1]{\\left( #1 \\right)} $\n",
    "$ \\newcommand{\\mybigpar}[1]{ \\Big( #1 \\Big)} $\n",
    "$ \\newcommand{\\sqrttwo}{\\frac{1}{\\sqrt{2}}} $\n",
    "$ \\newcommand{\\dsqrttwo}{\\dfrac{1}{\\sqrt{2}}} $\n",
    "$ \\newcommand{\\onehalf}{\\frac{1}{2}} $\n",
    "$ \\newcommand{\\donehalf}{\\dfrac{1}{2}} $\n",
    "$ \\newcommand{\\hadamard}{ \\mymatrix{rr}{ \\sqrttwo & \\sqrttwo \\\\ \\sqrttwo & -\\sqrttwo }} $\n",
    "$ \\newcommand{\\vzero}{\\myvector{1\\\\0}} $\n",
    "$ \\newcommand{\\vone}{\\myvector{0\\\\1}} $\n",
    "$ \\newcommand{\\vhadamardzero}{\\myvector{ \\sqrttwo \\\\  \\sqrttwo } } $\n",
    "$ \\newcommand{\\vhadamardone}{ \\myrvector{ \\sqrttwo \\\\ -\\sqrttwo } } $\n",
    "$ \\newcommand{\\myarray}[2]{ \\begin{array}{#1}#2\\end{array}} $\n",
    "$ \\newcommand{\\X}{ \\mymatrix{cc}{0 & 1 \\\\ 1 & 0}  } $\n",
    "$ \\newcommand{\\Z}{ \\mymatrix{rr}{1 & 0 \\\\ 0 & -1}  } $\n",
    "$ \\newcommand{\\Htwo}{ \\mymatrix{rrrr}{ \\frac{1}{2} & \\frac{1}{2} & \\frac{1}{2} & \\frac{1}{2} \\\\ \\frac{1}{2} & -\\frac{1}{2} & \\frac{1}{2} & -\\frac{1}{2} \\\\ \\frac{1}{2} & \\frac{1}{2} & -\\frac{1}{2} & -\\frac{1}{2} \\\\ \\frac{1}{2} & -\\frac{1}{2} & -\\frac{1}{2} & \\frac{1}{2} } } $\n",
    "$ \\newcommand{\\CNOT}{ \\mymatrix{cccc}{1 & 0 & 0 & 0 \\\\ 0 & 1 & 0 & 0 \\\\ 0 & 0 & 0 & 1 \\\\ 0 & 0 & 1 & 0} } $\n",
    "$ \\newcommand{\\norm}[1]{ \\left\\lVert #1 \\right\\rVert } $"
   ]
  },
  {
   "cell_type": "markdown",
   "metadata": {},
   "source": [
    "<h2>Visualization of a (Real-Valued) Qubit</h2>"
   ]
  },
  {
   "cell_type": "markdown",
   "metadata": {},
   "source": [
    "<table align=\"left\"><tr><td><i>\n",
    "We use certain tools from python library \"<b>matplotlib.pyplot</b>\" for drawing. \n",
    "\n",
    "Check the notebook \"<a href=\"../python/Python06_Drawing.ipynb\" target=\"_blank\">Python: Drawing</a>\" for the list of these tools.\n",
    "</i></td></tr></table>"
   ]
  },
  {
   "cell_type": "markdown",
   "metadata": {},
   "source": [
    "Suppose that we have a single qubit. \n",
    "\n",
    "Each possible (real-valued) quantum state of this qubit is a point on 2-dimensional space.\n",
    "\n",
    "It can also be represented as a vector from origin to that point.\n",
    "\n",
    "We start with the visual representation of the following quantum states: \n",
    "\n",
    "$$ \\ket{0} =  \\myvector{1\\\\0}, ~~ \\ket{1} = \\myvector{0\\\\1} , ~~ -\\ket{0} = \\myrvector{-1\\\\0}, ~~\\mbox{and}~~ -\\ket{1} = \\myrvector{0\\\\-1}. $$"
   ]
  },
  {
   "cell_type": "markdown",
   "metadata": {},
   "source": [
    "We first draw these quantum states as points."
   ]
  },
  {
   "cell_type": "code",
   "execution_count": 3,
   "metadata": {},
   "outputs": [
    {
     "data": {
      "text/plain": [
       "[<matplotlib.lines.Line2D at 0x2564ed63a90>]"
      ]
     },
     "execution_count": 3,
     "metadata": {},
     "output_type": "execute_result"
    },
    {
     "data": {
      "image/png": "[encoded data removed]",
      "text/plain": [
       "<Figure size 360x360 with 1 Axes>"
      ]
     },
     "metadata": {
      "needs_background": "light"
     },
     "output_type": "display_data"
    }
   ],
   "source": [
    "# import the drawing methods\n",
    "from matplotlib.pyplot import plot, figure\n",
    "\n",
    "# draw a figure\n",
    "figure(figsize=(6,6), dpi=60)\n",
    "\n",
    "# draw the origin\n",
    "plot(0,0,'ro') # a point in red color\n",
    "\n",
    "# draw the quantum states as points (in blue color)\n",
    "plot(1,0,'bo')\n",
    "plot(0,1,'bo')\n",
    "plot(-1,0,'bo')\n",
    "plot(0,-1,'bo')"
   ]
  },
  {
   "cell_type": "markdown",
   "metadata": {},
   "source": [
    "Then, we draw the points and the axes together. \n",
    "\n",
    "We have a predefined function for drawing axes: \"draw_axes()\".\n",
    "\n",
    "We include our predefined functions with the following line of code:\n",
    "\n",
    "    %run qlatvia.py"
   ]
  },
  {
   "cell_type": "code",
   "execution_count": 4,
   "metadata": {},
   "outputs": [
    {
     "data": {
      "text/plain": [
       "[<matplotlib.lines.Line2D at 0x2564ee7d208>]"
      ]
     },
     "execution_count": 4,
     "metadata": {},
     "output_type": "execute_result"
    },
    {
     "data": {
      "image/png": "[encoded data removed]",
      "text/plain": [
       "<Figure size 480x480 with 1 Axes>"
      ]
     },
     "metadata": {
      "needs_background": "light"
     },
     "output_type": "display_data"
    }
   ],
   "source": [
    "# import the drawing methods\n",
    "from matplotlib.pyplot import plot, figure\n",
    "\n",
    "# draw a figure\n",
    "figure(figsize=(6,6), dpi=80)\n",
    "\n",
    "# include our predefined functions\n",
    "%run qlatvia.py\n",
    "\n",
    "# draw the axes\n",
    "draw_axes()\n",
    "\n",
    "# draw the origin\n",
    "plot(0,0,'ro') # a point in red color\n",
    "\n",
    "# draw these quantum states as points (in blue color)\n",
    "plot(1,0,'bo') \n",
    "plot(0,1,'bo')\n",
    "plot(-1,0,'bo')\n",
    "plot(0,-1,'bo')"
   ]
  },
  {
   "cell_type": "markdown",
   "metadata": {},
   "source": [
    "Now, we draw the quantum states as vectors by also showing axes:"
   ]
  },
  {
   "cell_type": "code",
   "execution_count": 5,
   "metadata": {},
   "outputs": [
    {
     "data": {
      "text/plain": [
       "<matplotlib.patches.FancyArrow at 0x2564f2eb080>"
      ]
     },
     "execution_count": 5,
     "metadata": {},
     "output_type": "execute_result"
    },
    {
     "data": {
      "image/png": "[encoded data removed]",
      "text/plain": [
       "<Figure size 480x480 with 1 Axes>"
      ]
     },
     "metadata": {
      "needs_background": "light"
     },
     "output_type": "display_data"
    }
   ],
   "source": [
    "# import the drawing methods\n",
    "from matplotlib.pyplot import figure, arrow\n",
    "\n",
    "# draw a figure\n",
    "figure(figsize=(6,6), dpi=80)\n",
    "\n",
    "# include our predefined functions\n",
    "%run qlatvia.py\n",
    "\n",
    "# draw the axes\n",
    "draw_axes()\n",
    "\n",
    "# draw the quantum states as vectors (in blue color)\n",
    "arrow(0,0,0.92,0,head_width=0.04, head_length=0.08, color=\"blue\")\n",
    "arrow(0,0,0,0.92,head_width=0.04, head_length=0.08, color=\"blue\")\n",
    "arrow(0,0,-0.92,0,head_width=0.04, head_length=0.08, color=\"blue\")\n",
    "arrow(0,0,0,-0.92,head_width=0.04, head_length=0.08, color=\"blue\")"
   ]
  },
  {
   "cell_type": "markdown",
   "metadata": {},
   "source": [
    "<h3> Task 1 </h3>\n",
    "\n",
    "Write a function that returns a randomly created 2-dimensional (real-valued) quantum state.\n",
    "\n",
    "<table align=\"left\"><tr><td><i>\n",
    "You may use your code written for <a href=\"B28_Quantum_State.ipynb#task2\">a task given in notebook \"Quantum States\"</a>.\n",
    "</i></td></tr></table>\n",
    "<br><br>\n",
    "\n",
    "Create 100 random quantum states by using your function, and then draw all of them as points."
   ]
  },
  {
   "cell_type": "code",
   "execution_count": null,
   "metadata": {},
   "outputs": [],
   "source": [
    "# import the drawing methods\n",
    "from matplotlib.pyplot import plot, figure\n",
    "\n",
    "# draw a figure\n",
    "figure(figsize=(6,6), dpi=60) \n",
    "\n",
    "# draw the origin\n",
    "plot(0,0,'ro') \n",
    "\n",
    "#\n",
    "# your solution is here\n",
    "#"
   ]
  },
  {
   "cell_type": "markdown",
   "metadata": {},
   "source": [
    "<a href=\"B30_Visualization_of_a_Qubit_Solutions.ipynb#task1\">click for our solution</a>"
   ]
  },
  {
   "cell_type": "markdown",
   "metadata": {},
   "source": [
    "<h3> Task 2 </h3>\n",
    "\n",
    "Repeat the previous task by drawing the quantum states as vectors (arrows) instead of points.\n",
    "\n",
    "<i>Please keep the codes below for drawing axes for getting a better visual focus.</i>"
   ]
  },
  {
   "cell_type": "code",
   "execution_count": null,
   "metadata": {},
   "outputs": [],
   "source": [
    "# import the drawing methods\n",
    "from matplotlib.pyplot import plot, figure, arrow\n",
    "\n",
    "# draw a figure\n",
    "figure(figsize=(6,6), dpi=60) \n",
    "\n",
    "# include our predefined functions\n",
    "%run qlatvia.py\n",
    "\n",
    "# draw the axes\n",
    "draw_axes()\n",
    "\n",
    "# draw the origin\n",
    "plot(0,0,'ro') \n",
    "\n",
    "#\n",
    "# your solution is here\n",
    "#\n",
    "\n",
    "\n"
   ]
  },
  {
   "cell_type": "markdown",
   "metadata": {},
   "source": [
    "<a href=\"B30_Visualization_of_a_Qubit_Solutions.ipynb#task2\">click for our solution</a>"
   ]
  },
  {
   "cell_type": "markdown",
   "metadata": {},
   "source": [
    "<h3> Unit circle </h3>\n",
    "\n",
    "All quantum states of a qubit form the unit circle.\n",
    "\n",
    "The length of each quantum state is 1.\n",
    "\n",
    "All points that are 1 unit away from the origin form the circle with radius 1 unit.\n",
    "\n",
    "We can draw the unit circle with python.\n",
    "\n",
    "We have a predefined function for drawing the unit circle: \"draw_unit_circle()\"."
   ]
  },
  {
   "cell_type": "code",
   "execution_count": null,
   "metadata": {},
   "outputs": [],
   "source": [
    "# import the drawing methods\n",
    "from matplotlib.pyplot import figure\n",
    "\n",
    "figure(figsize=(6,6), dpi=80) # size of the figure\n",
    "\n",
    "# include our predefined functions\n",
    "%run qlatvia.py\n",
    "\n",
    "# draw axes\n",
    "draw_axes()\n",
    "\n",
    "# draw the unit circle\n",
    "draw_unit_circle()"
   ]
  },
  {
   "cell_type": "markdown",
   "metadata": {},
   "source": [
    "<h3>Quantum state of a qubit on the unit circle</h3>"
   ]
  },
  {
   "cell_type": "markdown",
   "metadata": {},
   "source": [
    "We draw the quantum state $ \\myvector{3/5 \\\\ 4/5} $ and its elements."
   ]
  },
  {
   "cell_type": "markdown",
   "metadata": {},
   "source": [
    "<i style=\"font-size:10pt;\">\n",
    "Our predefined function \"draw_qubit()\" draws a figure, the origin, the axes, the unit circle, and base quantum states.\n",
    "<br>\n",
    "Our predefined function \"draw_quantum_state(x,y,name)\" draws an arrow from (0,0) to (x,y) and associates it with <u>name</u>.\n",
    "<br>\n",
    "We include our predefined functions with the following line of code:\n",
    "    \n",
    "    %run qlatvia.py\n",
    "</i>   "
   ]
  },
  {
   "cell_type": "code",
   "execution_count": null,
   "metadata": {},
   "outputs": [],
   "source": [
    "%run qlatvia.py\n",
    "\n",
    "draw_qubit()\n",
    "\n",
    "draw_quantum_state(3/5,4/5,\"|v>\")"
   ]
  },
  {
   "cell_type": "markdown",
   "metadata": {},
   "source": [
    "Now, we draw its angle with $ \\ket{0} $-axis and its projections on both axes.\n",
    "\n",
    "<i> For drawing the angle, we use the method \"Arc\" from library \"matplotlib.patches\". </i> "
   ]
  },
  {
   "cell_type": "code",
   "execution_count": null,
   "metadata": {},
   "outputs": [],
   "source": [
    "%run qlatvia.py\n",
    "\n",
    "draw_qubit()\n",
    "\n",
    "draw_quantum_state(3/5,4/5,\"|v>\")\n",
    "\n",
    "from matplotlib.pyplot import arrow, text, gca\n",
    "\n",
    "# the projection on |0>-axis\n",
    "arrow(0,0,3/5,0,color=\"blue\",linewidth=1.5)\n",
    "arrow(0,4/5,3/5,0,color=\"blue\",linestyle='dotted')\n",
    "text(0.1,-0.1,\"cos(a)=3/5\")\n",
    "\n",
    "# the projection on |1>-axis\n",
    "arrow(0,0,0,4/5,color=\"blue\",linewidth=1.5)\n",
    "arrow(3/5,0,0,4/5,color=\"blue\",linestyle='dotted')\n",
    "text(-0.1,0.55,\"sin(a)=4/5\",rotation=\"90\")\n",
    "\n",
    "# drawing the angle with |0>-axis\n",
    "from matplotlib.patches import Arc\n",
    "gca().add_patch( Arc((0,0),0.4,0.4,angle=0,theta1=0,theta2=53) )\n",
    "text(0.08,0.05,'.',fontsize=30)\n",
    "text(0.21,0.09,'a')"
   ]
  },
  {
   "cell_type": "markdown",
   "metadata": {},
   "source": [
    "<b> Observations: </b>\n",
    "<ul>\n",
    "    <li> The angle of quantum state with state $ \\ket{0} $ is $a$.</li>    \n",
    "    <li> The amplitude of state $ \\ket{0} $ is $ \\cos(a) = \\frac{3}{5} $.</li>\n",
    "    <li> The probability of observing state $ \\ket{0} $ is $ \\cos^2(a) = \\frac{9}{25} $.</li>\n",
    "    <li> The amplitude of state $ \\ket{1} $ is $ \\sin(a) = \\frac{4}{5} $.</li>\n",
    "    <li> The probability of observing state $ \\ket{1} $ is $ \\sin^2(a) = \\frac{16}{25} $.</li>\n",
    "</ul>"
   ]
  },
  {
   "cell_type": "markdown",
   "metadata": {},
   "source": [
    "Now we consider the following two quantum states: $ \\ket{v_1} = \\myvector{4/5 \\\\ 3/5} \\mbox{ and } \\ket{v_2} = \\myrvector{4/5 \\\\ -3/5}. $\n",
    "\n",
    "We draw them with their elements:"
   ]
  },
  {
   "cell_type": "code",
   "execution_count": null,
   "metadata": {},
   "outputs": [],
   "source": [
    "%run qlatvia.py\n",
    "\n",
    "draw_qubit()\n",
    "\n",
    "draw_quantum_state(3/5,4/5,\"|v1>\")\n",
    "draw_quantum_state(3/5,-4/5,\"|v2>\")\n",
    "\n",
    "from matplotlib.pyplot import arrow, text, gca\n",
    "\n",
    "# the projection on |0>-axis\n",
    "arrow(0,0,3/5,0,color=\"blue\",linewidth=1.5)\n",
    "arrow(0,0,3/5,0,color=\"blue\",linewidth=1.5)\n",
    "arrow(0,4/5,3/5,0,color=\"blue\",linestyle='dotted')\n",
    "arrow(0,-4/5,3/5,0,color=\"blue\",linestyle='dotted')\n",
    "text(0.36,0.05,\"cos(a)=3/5\")\n",
    "text(0.36,-0.09,\"cos($-$a)=3/5\")\n",
    "\n",
    "\n",
    "# the projection on |1>-axis\n",
    "arrow(0,0,0,4/5,color=\"blue\",linewidth=1.5)\n",
    "arrow(0,0,0,-4/5,color=\"blue\",linewidth=1.5)\n",
    "arrow(3/5,0,0,4/5,color=\"blue\",linestyle='dotted')\n",
    "arrow(3/5,0,0,-4/5,color=\"blue\",linestyle='dotted')\n",
    "text(-0.1,0.55,\"sin(a)=4/5\",rotation=\"90\")\n",
    "text(-0.14,-0.2,\"sin($-$a)=$-$4/5\",rotation=\"270\")\n",
    "\n",
    "# drawing the angle with |0>-axis\n",
    "from matplotlib.patches import Arc\n",
    "gca().add_patch( Arc((0,0),0.4,0.4,angle=0,theta1=0,theta2=53) )\n",
    "text(0.08,0.05,'.',fontsize=30)\n",
    "text(0.21,0.09,'a')\n",
    "gca().add_patch( Arc((0,0),0.4,0.4,angle=0,theta1=-53,theta2=0) )\n",
    "text(0.08,-0.07,'.',fontsize=30)\n",
    "text(0.19,-0.12,'$-$a')"
   ]
  },
  {
   "cell_type": "markdown",
   "metadata": {},
   "source": [
    "<b> Observations: </b>\n",
    "<ul>\n",
    "    <li> The angle between $ \\ket{v_2} $ and $ \\ket{0} $ is still $a$, but the angle of $ \\ket{v_2} $ is $ -a $.</li>    \n",
    "    <li> As $ \\cos(x) = \\cos(-x) $, we have $ \\cos(a) = \\cos(-a) = \\frac{3}{5} $. </li>\n",
    "    <li> As $ \\sin(x) = -\\sin(-x) $, we have $ \\sin(a) = \\frac{4}{5} $ and $ \\sin(-a) = - \\frac{4}{5} $. </li>\n",
    "</ul>"
   ]
  },
  {
   "cell_type": "markdown",
   "metadata": {},
   "source": [
    "<b> Remark: </b> For any angle $ x $ (in radians), we have\n",
    "\n",
    "$$ \\cdots = \\sin(x+4\\pi) = \\sin(x+2\\pi) = \\sin(x) =  \\sin(x-2\\pi) = \\sin(x-4\\pi) = \\cdots $$\n",
    "\n",
    "$$ \\cdots =  \\cos(x+4\\pi) = \\cos(x+2\\pi) =  \\cos(x) = \\cos(x-2\\pi) =  \\cos(x-4\\pi) = \\cdots . $$\n",
    "\n",
    "Thus, the angle of $ \\ket{v_2} $ can also be referred as $2\\pi-a$."
   ]
  },
  {
   "cell_type": "markdown",
   "metadata": {},
   "source": [
    "<h3> The angle of a quantum state </h3>\n",
    "\n",
    "The angle of a vector (in radians) on the unit circle is the length of arc in counter-clockwise direction that starts from $ (1,0) $ and with the points representing the vector.\n",
    "\n",
    "We randomly pick an angle between zero and 360 degrees and then find the amplitudes of the quantum state by using the basic trigonometric functions. We execute the following code a couple of times to see different examples.\n",
    "\n",
    "You can also set the value of \"myangle\" manually for seeing a specific angle."
   ]
  },
  {
   "cell_type": "code",
   "execution_count": null,
   "metadata": {},
   "outputs": [],
   "source": [
    "# set the angle\n",
    "\n",
    "from random import randrange\n",
    "myangle = randrange(361)\n",
    "\n",
    "################################################\n",
    "\n",
    "from matplotlib.pyplot import figure,gca\n",
    "from matplotlib.patches import Arc\n",
    "from math import sin,cos,pi\n",
    "\n",
    "# draw a figure\n",
    "figure(figsize=(6,6), dpi=60)\n",
    "\n",
    "%run qlatvia.py\n",
    "\n",
    "draw_axes()\n",
    "\n",
    "print(\"the selected angle is\",myangle,\"degrees\")\n",
    "\n",
    "ratio_of_arc = ((1000*myangle/360)//1)/1000\n",
    "\n",
    "print(\"it is\",ratio_of_arc,\"of a full circle\")\n",
    "\n",
    "print(\"its length is\",ratio_of_arc,\"x 2\\u03C0\",\"=\",ratio_of_arc*2*pi)\n",
    "\n",
    "myangle_in_radian = 2*pi*(myangle/360)\n",
    "\n",
    "print(\"its radian value is\",myangle_in_radian)\n",
    "\n",
    "gca().add_patch( Arc((0,0),0.2,0.2,angle=0,theta1=0,theta2=myangle,color=\"red\") )\n",
    "\n",
    "gca().add_patch( Arc((0,0),2,2,angle=0,theta1=0,theta2=myangle,color=\"blue\") )\n",
    "\n",
    "x = cos(myangle_in_radian)\n",
    "y = sin(myangle_in_radian)\n",
    "\n",
    "draw_quantum_state(x,y,\"|v>\")"
   ]
  },
  {
   "cell_type": "markdown",
   "metadata": {},
   "source": [
    "<a id=\"task3\"></a>\n",
    "<h3> Task 3 </h3>\n",
    "\n",
    "Define a function randomly creating a quantum state based on the this idea.\n",
    "\n",
    "Randomly create a quantum state by using this function.\n",
    "\n",
    "Draw the quantum state on the unit circle.\n",
    "\n",
    "Repeat the task for a few times.\n",
    "\n",
    "Randomly create 100 quantum states and draw all of them without labeling."
   ]
  },
  {
   "cell_type": "markdown",
   "metadata": {},
   "source": [
    "<i> You can save your function for using later: comment out the first command, give an appropriate file name, and then run the cell.</i>"
   ]
  },
  {
   "cell_type": "code",
   "execution_count": null,
   "metadata": {},
   "outputs": [],
   "source": [
    "# %%writefile FILENAME.py \n",
    "# your function is here\n",
    "from math import cos, sin, pi\n",
    "from random import randrange\n",
    "def random_quantum_state():\n",
    "    #\n",
    "    # your codes are here\n",
    "    #"
   ]
  },
  {
   "cell_type": "markdown",
   "metadata": {},
   "source": [
    "<i style=\"font-size:10pt;\">\n",
    "Our predefined function \"draw_qubit()\" draws a figure, the origin, the axes, the unit circle, and base quantum states.\n",
    "<br>\n",
    "Our predefined function \"draw_quantum_state(x,y,name)\" draws an arrow from (0,0) to (x,y) and associates it with <u>name</u>.\n",
    "<br>\n",
    "We include our predefined functions with the following line of code:\n",
    "    \n",
    "    %run qlatvia.py\n",
    "</i>  "
   ]
  },
  {
   "cell_type": "code",
   "execution_count": null,
   "metadata": {},
   "outputs": [],
   "source": [
    "# visually test your function\n",
    "%run qlatvia.py\n",
    "\n",
    "draw_qubit()\n",
    "\n",
    "#\n",
    "# your solution is here\n",
    "#\n",
    "\n",
    "# draw_quantum_state(x,y,\"\")"
   ]
  },
  {
   "cell_type": "markdown",
   "metadata": {},
   "source": [
    "<a href=\"B30_Visualization_of_a_Qubit_Solutions.ipynb#task3\">click for our solution</a>"
   ]
  }
 ],
 "metadata": {
  "kernelspec": {
   "display_name": "Python 3",
   "language": "python",
   "name": "python3"
  },
  "language_info": {
   "codemirror_mode": {
    "name": "ipython",
    "version": 3
   },
   "file_extension": ".py",
   "mimetype": "text/x-python",
   "name": "python",
   "nbconvert_exporter": "python",
   "pygments_lexer": "ipython3",
   "version": "3.7.3"
  }
 },
 "nbformat": 4,
 "nbformat_minor": 2
}
