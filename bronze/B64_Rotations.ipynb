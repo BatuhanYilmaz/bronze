{
 "cells": [
  {
   "cell_type": "markdown",
   "metadata": {},
   "source": [
    "<table>\n",
    "    <tr><td align=\"right\" style=\"background-color:#ffffff;\">\n",
    "        <img src=\"../images/logo.jpg\" width=\"20%\" align=\"right\">\n",
    "    </td></tr>\n",
    "    <tr><td align=\"right\" style=\"color:#777777;background-color:#ffffff;font-size:12px;\">\n",
    "         Prepared by Abuzer Yakaryilmaz<br>\n",
    "        Özlem Salehi | August 26, 2019 (updated)<br>\n",
    "        Utku Birkan | September 16, 2019 (updated)\n",
    "    </td></tr>\n",
    "    <tr><td align=\"right\" style=\"color:#bbbbbb;background-color:#ffffff;font-size:11px;font-style:italic;\">\n",
    "        This cell contains some macros. If there is a problem with displaying mathematical formulas, please run this cell to load these macros.\n",
    "    </td></tr>\n",
    "</table>\n",
    "$ \\newcommand{\\bra}[1]{\\langle #1|} $\n",
    "$ \\newcommand{\\ket}[1]{|#1\\rangle} $\n",
    "$ \\newcommand{\\braket}[2]{\\langle #1|#2\\rangle} $\n",
    "$ \\newcommand{\\dot}[2]{ #1 \\cdot #2} $\n",
    "$ \\newcommand{\\biginner}[2]{\\left\\langle #1,#2\\right\\rangle} $\n",
    "$ \\newcommand{\\mymatrix}[2]{\\left( \\begin{array}{#1} #2\\end{array} \\right)} $\n",
    "$ \\newcommand{\\myvector}[1]{\\mymatrix{c}{#1}} $\n",
    "$ \\newcommand{\\myrvector}[1]{\\mymatrix{r}{#1}} $\n",
    "$ \\newcommand{\\mypar}[1]{\\left( #1 \\right)} $\n",
    "$ \\newcommand{\\mybigpar}[1]{ \\Big( #1 \\Big)} $\n",
    "$ \\newcommand{\\sqrttwo}{\\frac{1}{\\sqrt{2}}} $\n",
    "$ \\newcommand{\\dsqrttwo}{\\dfrac{1}{\\sqrt{2}}} $\n",
    "$ \\newcommand{\\onehalf}{\\frac{1}{2}} $\n",
    "$ \\newcommand{\\donehalf}{\\dfrac{1}{2}} $\n",
    "$ \\newcommand{\\hadamard}{ \\mymatrix{rr}{ \\sqrttwo & \\sqrttwo \\\\ \\sqrttwo & -\\sqrttwo }} $\n",
    "$ \\newcommand{\\vzero}{\\myvector{1\\\\0}} $\n",
    "$ \\newcommand{\\vone}{\\myvector{0\\\\1}} $\n",
    "$ \\newcommand{\\vhadamardzero}{\\myvector{ \\sqrttwo \\\\  \\sqrttwo } } $\n",
    "$ \\newcommand{\\vhadamardone}{ \\myrvector{ \\sqrttwo \\\\ -\\sqrttwo } } $\n",
    "$ \\newcommand{\\myarray}[2]{ \\begin{array}{#1}#2\\end{array}} $\n",
    "$ \\newcommand{\\X}{ \\mymatrix{cc}{0 & 1 \\\\ 1 & 0}  } $\n",
    "$ \\newcommand{\\Z}{ \\mymatrix{rr}{1 & 0 \\\\ 0 & -1}  } $\n",
    "$ \\newcommand{\\Htwo}{ \\mymatrix{rrrr}{ \\frac{1}{2} & \\frac{1}{2} & \\frac{1}{2} & \\frac{1}{2} \\\\ \\frac{1}{2} & -\\frac{1}{2} & \\frac{1}{2} & -\\frac{1}{2} \\\\ \\frac{1}{2} & \\frac{1}{2} & -\\frac{1}{2} & -\\frac{1}{2} \\\\ \\frac{1}{2} & -\\frac{1}{2} & -\\frac{1}{2} & \\frac{1}{2} } } $\n",
    "$ \\newcommand{\\CNOT}{ \\mymatrix{cccc}{1 & 0 & 0 & 0 \\\\ 0 & 1 & 0 & 0 \\\\ 0 & 0 & 0 & 1 \\\\ 0 & 0 & 1 & 0} } $\n",
    "$ \\newcommand{\\norm}[1]{ \\left\\lVert #1 \\right\\rVert } $"
   ]
  },
  {
   "cell_type": "markdown",
   "metadata": {},
   "source": [
    "<h2>Rotations</h2>"
   ]
  },
  {
   "cell_type": "markdown",
   "metadata": {},
   "source": [
    "<table align=\"left\"><tr><td><i>\n",
    "We use certain tools from python library \"<b>matplotlib.pyplot</b>\" for drawing. \n",
    "\n",
    "Check the notebook \"<a href=\"../python/Python06_Drawing.ipynb\" target=\"_blank\">Python: Drawing</a>\" for the list of these tools.\n",
    "</i></td></tr></table>"
   ]
  },
  {
   "cell_type": "markdown",
   "metadata": {},
   "source": [
    "We start with drawing the quantum states $ \\ket{0} $ and $ \\ket{+} = \\myvector{ \\frac{1}{\\sqrt{2}} \\\\ \\frac{1}{\\sqrt{2}} } $."
   ]
  },
  {
   "cell_type": "markdown",
   "metadata": {},
   "source": [
    "<i style=\"font-size:10pt;\">\n",
    "Our predefined function \"draw_qubit()\" draws a figure, the origin, the axes, the unit circle, and base quantum states.\n",
    "<br>\n",
    "Our predefined function \"draw_quantum_state(x,y,name)\" draws an arrow from (0,0) to (x,y) and associates it with <u>name</u>.\n",
    "<br>\n",
    "We include our predefined functions with the following line of code:\n",
    "    \n",
    "    %run qlatvia.py\n",
    "</i>   "
   ]
  },
  {
   "cell_type": "code",
   "execution_count": 1,
   "metadata": {},
   "outputs": [
    {
     "data": {
      "text/plain": [
       "Text(0.21, 0.09, 'π/4')"
      ]
     },
     "execution_count": 1,
     "metadata": {},
     "output_type": "execute_result"
    }
   ],
   "source": [
    "%run qlatvia.py\n",
    "\n",
    "draw_qubit()\n",
    "\n",
    "sqrttwo=2**0.5\n",
    "\n",
    "draw_quantum_state(1,0,\"\")\n",
    "\n",
    "draw_quantum_state(1/sqrttwo,1/sqrttwo,\"|+>\")\n",
    "\n",
    "# drawing the angle with |0>-axis\n",
    "from matplotlib.pyplot import gca, text\n",
    "from matplotlib.patches import Arc\n",
    "gca().add_patch( Arc((0,0),0.4,0.4,angle=0,theta1=0,theta2=45) )\n",
    "text(0.08,0.05,'.',fontsize=30)\n",
    "text(0.21,0.09,'\\u03C0/4')"
   ]
  },
  {
   "cell_type": "markdown",
   "metadata": {},
   "source": [
    "<h3> Task 1 (Discussion) </h3>\n",
    "\n",
    "Suppose that we start in state $ \\ket{0} $, and then obtain state $\\ket{+}$ by applying a rotation operator. \n",
    "\n",
    "If we apply the same operator consecutively, what can be the new quantum state?\n",
    "\n",
    "Here are eight candidates:\n",
    "\n",
    "$$\n",
    "    \\myarray{|c|c|c|c|}{\n",
    "        \\hline\n",
    "        A & \\ket{0} = \\vzero & E & \\ket{+} = \\myrvector{\\sqrttwo \\\\ \\sqrttwo}\n",
    "        \\\\ \\hline\n",
    "        B & \\ket{1} = \\vone & F & \\ket{-} = \\myrvector{\\sqrttwo \\\\ -\\sqrttwo}\n",
    "        \\\\ \\hline\n",
    "        C & -\\ket{0} = \\myrvector{-1 \\\\ 0} & G & -\\ket{+} = \\myrvector{-\\sqrttwo \\\\ -\\sqrttwo}\n",
    "        \\\\ \\hline\n",
    "        D & -\\ket{1} = \\myrvector{0 \\\\ -1} & H & -\\ket{-} = \\myrvector{-\\sqrttwo \\\\ \\sqrttwo}\n",
    "        \\\\ \\hline\n",
    "    }\n",
    "$$"
   ]
  },
  {
   "cell_type": "markdown",
   "metadata": {},
   "source": [
    "<h3> Rotation with degree $\\pi/4$ </h3>"
   ]
  },
  {
   "cell_type": "markdown",
   "metadata": {},
   "source": [
    "Its matrix form is similar to Hadamard operator:\n",
    "\n",
    "$$ R(\\pi/4) = \\mymatrix{rr}{\\cos(\\pi/4) & -\\sin(\\pi/4) \\\\ \\sin(\\pi/4) & \\cos(\\pi/4) }\n",
    "= \\mymatrix{rr}{ \\sqrttwo & -\\sqrttwo \\\\  \\sqrttwo & \\sqrttwo} $$."
   ]
  },
  {
   "cell_type": "markdown",
   "metadata": {},
   "source": [
    "Let us start with state $ \\ket{0} $ and apply $ R(\\pi/4) $ 7 times, and draw each state on the unit circle."
   ]
  },
  {
   "cell_type": "code",
   "execution_count": 3,
   "metadata": {},
   "outputs": [
    {
     "data": {
      "image/png": "[encoded data removed]",
      "text/plain": [
       "<Figure size 360x360 with 1 Axes>"
      ]
     },
     "metadata": {
      "needs_background": "light"
     },
     "output_type": "display_data"
    }
   ],
   "source": [
    "%run qlatvia.py\n",
    "\n",
    "draw_qubit()\n",
    "\n",
    "[x,y]=[1,0]\n",
    "\n",
    "draw_quantum_state(x,y,\"v0\")\n",
    "\n",
    "sqrttwo = 2**0.5\n",
    "oversqrttwo = 1/sqrttwo\n",
    "\n",
    "R = [ [oversqrttwo, -1*oversqrttwo], [oversqrttwo,oversqrttwo] ]\n",
    "\n",
    "# function for rotation R\n",
    "def rotate(px,py):\n",
    "    newx = R[0][0]*px + R[0][1]*py\n",
    "    newy = R[1][0]*px + R[1][1]*py\n",
    "    return [newx,newy]\n",
    "\n",
    "# apply rotation R 7 times\n",
    "for i in range(1,8):\n",
    "    [x,y] = rotate(x,y)\n",
    "    draw_quantum_state(x,y,\"|v\"+str(i)+\">\")\n"
   ]
  },
  {
   "cell_type": "markdown",
   "metadata": {},
   "source": [
    "<h3> Rotation with degree $\\theta$ </h3>"
   ]
  },
  {
   "cell_type": "markdown",
   "metadata": {},
   "source": [
    "Recall that the matrix form of rotation is as follows:\n",
    "\n",
    "$$ R(\\theta) = \\mymatrix{rr}{\\cos(\\theta) & -\\sin(\\theta) \\\\ \\sin(\\theta) & \\cos(\\theta) }, $$\n",
    "\n",
    "where $ \\theta $ is the angle of rotation (in counter-clockwise direction)."
   ]
  },
  {
   "cell_type": "markdown",
   "metadata": {},
   "source": [
    "<h3> Rotations with ry-gate </h3>"
   ]
  },
  {
   "cell_type": "markdown",
   "metadata": {},
   "source": [
    "**Technical Remark**\n",
    "\n",
    "Even though, we focus on only real-valued quantum systems in this tutorial, the quantum state of a qubit is represented by 2-dimensional complex-valued vector in general. To visually represent a complex number, we use two dimensions. So, to visually represent the state of a qubit, we use four dimensions. \n",
    "    \n",
    "On the other hand, we can still visualize any state of a qubit. Recall that this representation is called as <i>Bloch sphere</i>. \n",
    "\n",
    "The rotation operators over a single (complex-valued) qubit are defined on Bloch sphere. The names of gates \"x\", \"y\", or \"z\" refer to the axes on Bloch sphere. When we focus on real-valued qubit, then we should be careful about the parameter(s) that a gate takes. \n",
    "\n",
    "In qiskit, ry-gate makes a rotation around $y$-axis with the given angle, say $\\theta$, on Bloch sphere. \n",
    "    \n",
    " $ Ry(\\theta)=\\mymatrix{rr}{\\cos(\\theta/2) & - \\sin(\\theta/2) \\\\ \\sin(\\theta/2) & \\cos(\\theta/2) }$\n",
    "\n",
    "\n",
    " This refers to a rotation in our real-valued $\\ket{0}$-$\\ket{1}$ plane with angle $ \\frac{\\theta}{2} $. Therefore, <b>we should provide the twice of the desired angle in this tutorial.</b>"
   ]
  },
  {
   "cell_type": "markdown",
   "metadata": {},
   "source": [
    "\n",
    "If our angle is $ \\theta $ radians, then we pass $ 2 \\theta $ radians as the parameter to ry-gate.\n",
    "\n",
    "Then ry-gate implements the rotation with angle $\\theta$. \n",
    "\n",
    "The default direction of a rotation by ry-gate is counterclockwise.\n",
    "\n",
    "``` python\n",
    "    mycircuit.ry(angle_of_rotation,quantum_register)\n",
    "```    "
   ]
  },
  {
   "cell_type": "markdown",
   "metadata": {},
   "source": [
    "<h3> Example </h3>\n",
    "\n",
    "We implement the rotation with angle $ \\pi/4 $ in qiskit.\n",
    "\n",
    "We start with state $\\ket{0}$, and apply ry-gate 8 times. \n",
    "\n",
    "After each iteration, <b>we read the quantum state from the local simulator</b>, and then draw it."
   ]
  },
  {
   "cell_type": "code",
   "execution_count": 2,
   "metadata": {},
   "outputs": [
    {
     "name": "stdout",
     "output_type": "stream",
     "text": [
      "iteration 1 : the quantum state is [0.70710678+0.j 0.70710678+0.j]\n",
      "iteration 2 : the quantum state is [0.+0.j 1.+0.j]\n",
      "iteration 3 : the quantum state is [-0.70710678+0.j  0.70710678+0.j]\n",
      "iteration 4 : the quantum state is [-1.+0.j  0.+0.j]\n",
      "iteration 5 : the quantum state is [-0.70710678+0.j -0.70710678+0.j]\n",
      "iteration 6 : the quantum state is [ 0.+0.j -1.+0.j]\n",
      "iteration 7 : the quantum state is [ 0.70710678+0.j -0.70710678+0.j]\n",
      "iteration 8 : the quantum state is [1.+0.j 0.+0.j]\n"
     ]
    },
    {
     "data": {
      "image/png": "[encoded data removed]",
      "text/plain": [
       "<Figure size 360x360 with 1 Axes>"
      ]
     },
     "metadata": {
      "needs_background": "light"
     },
     "output_type": "display_data"
    }
   ],
   "source": [
    "%run qlatvia.py\n",
    "\n",
    "draw_qubit()\n",
    "\n",
    "from qiskit import QuantumRegister, ClassicalRegister, QuantumCircuit, execute, Aer\n",
    "from math import pi\n",
    "\n",
    "# we define a quantum circuit with one qubit and one bit\n",
    "qreg1 =  QuantumRegister(1) # quantum register with a single qubit\n",
    "creg1 = ClassicalRegister(1) # classical register with a single bit\n",
    "mycircuit1 = QuantumCircuit(qreg1,creg1) # quantum circuit with quantum and classical registers\n",
    "\n",
    "rotation_angle = pi/4\n",
    "\n",
    "for i in range(1,9):\n",
    "    mycircuit1.ry(2*rotation_angle,qreg1[0]) \n",
    "     # the following code is used to get the quantum state of the quantum register\n",
    "    job = execute(mycircuit1,Aer.get_backend('statevector_simulator'))\n",
    "    current_quantum_state=job.result().get_statevector(mycircuit1) \n",
    "    print(\"iteration\",i,\": the quantum state is\",current_quantum_state)\n",
    "    x_value = current_quantum_state[0].real # get the amplitude of |0>\n",
    "    y_value = current_quantum_state[1].real # get the amplitude of |1>\n",
    "    draw_quantum_state(x_value,y_value,\"|v\"+str(i)+\">\")"
   ]
  },
  {
   "cell_type": "markdown",
   "metadata": {},
   "source": [
    "<h3> Task 2 </h3>\n",
    "\n",
    "Repeat the same example 12 times for angle $ \\pi/6 $. \n",
    "\n",
    "Repeat the same example 16 times for angle $ 3\\pi/8 $. \n",
    "\n",
    "Repeat the same example 20 times for angle $ \\sqrt{2}\\pi $."
   ]
  },
  {
   "cell_type": "code",
   "execution_count": null,
   "metadata": {},
   "outputs": [],
   "source": [
    "#\n",
    "# your code is here\n",
    "#\n"
   ]
  },
  {
   "cell_type": "markdown",
   "metadata": {},
   "source": [
    "<h3> Task 3 </h3>\n",
    "\n",
    "Suppose that we have three quantum circuits each with a single qubit and the states of the second qubit and the third qubit are orthogonal to the state of the first qubit.\n",
    "\n"
   ]
  },
  {
   "cell_type": "code",
   "execution_count": null,
   "metadata": {},
   "outputs": [],
   "source": [
    "from qiskit import QuantumRegister, ClassicalRegister, QuantumCircuit, execute, Aer\n",
    "from math import pi\n",
    "from random import randrange\n",
    "\n",
    "# first qubit \n",
    "qreg1 =  QuantumRegister(1) \n",
    "creg1 = ClassicalRegister(1) \n",
    "mycircuit1 = QuantumCircuit(qreg1,creg1)\n",
    "\n",
    "# second qubit \n",
    "qreg2 =  QuantumRegister(1) \n",
    "creg2 = ClassicalRegister(1) \n",
    "mycircuit2 = QuantumCircuit(qreg2,creg2)\n",
    "\n",
    "# third qubit \n",
    "qreg3 =  QuantumRegister(1) \n",
    "creg3 = ClassicalRegister(1) \n",
    "mycircuit3 = QuantumCircuit(qreg3,creg3)\n",
    "\n",
    "# randomly pick the angle of rotation\n",
    "r = randrange(100)\n",
    "theta = 2*pi*(r/100) # radians\n",
    "print(\"the picked angle is {} degrees and {} radians\".format(r*3.6,theta))\n",
    "\n",
    "\n",
    "# rotate the first qubit\n",
    "mycircuit1.ry(2*theta,qreg1[0])\n",
    "\n",
    "# the different angles orthogonal to theta\n",
    "theta1 = theta + pi/2\n",
    "theta2 = theta - pi/2\n",
    "\n",
    "# rotate the second and third qubits\n",
    "mycircuit2.ry(2*theta1,qreg2[0])\n",
    "mycircuit3.ry(2*theta2,qreg3[0]);"
   ]
  },
  {
   "cell_type": "markdown",
   "metadata": {},
   "source": [
    "Let's read the states of these three qubits from the local simulator, say $ \\ket{v_0} $, $ \\ket{v_1} $, and $ \\ket{v_2} $, respectively. \n",
    "\n",
    "Let's verify the following by drawing or by finding their dot products:\n",
    "<ol>\n",
    "    <li>$ \\ket{v_0} $ and $ \\ket{v_1} $ are orthogonal (i.e., their dot product is zero.)</li>\n",
    "    <li>$ \\ket{v_0} $ and $ \\ket{v_2} $ are orthogonal</li>\n",
    "    <li>$ \\ket{v_1} = -1\\ket{v_2} $ (i.e., their dot product is -1).</li>\n",
    "</ol>"
   ]
  },
  {
   "cell_type": "code",
   "execution_count": null,
   "metadata": {},
   "outputs": [],
   "source": [
    "# read the quantum state of the first qubit\n",
    "job = execute(mycircuit1,Aer.get_backend('statevector_simulator'))\n",
    "current_quantum_state=job.result().get_statevector(mycircuit1) \n",
    "[x1,y1]=[current_quantum_state[0].real,current_quantum_state[1].real]\n",
    "print(\"the first qubit:\",x1,y1)\n",
    "\n",
    "# read the quantum state of the second qubit\n",
    "job = execute(mycircuit2,Aer.get_backend('statevector_simulator'))\n",
    "current_quantum_state=job.result().get_statevector(mycircuit2) \n",
    "[x2,y2]=[current_quantum_state[0].real,current_quantum_state[1].real]\n",
    "print(\"the second qubit:\",x2,y2)\n",
    "\n",
    "# read the quantum state of the third qubit\n",
    "job = execute(mycircuit3,Aer.get_backend('statevector_simulator'))\n",
    "current_quantum_state=job.result().get_statevector(mycircuit3) \n",
    "[x3,y3]=[current_quantum_state[0].real,current_quantum_state[1].real]\n",
    "print(\"the third qubit:\",x3,y3)"
   ]
  },
  {
   "cell_type": "code",
   "execution_count": null,
   "metadata": {},
   "outputs": [],
   "source": [
    "%run qlatvia.py\n",
    "\n",
    "draw_qubit()\n",
    "\n",
    "draw_quantum_state(x1,y1,\"v0\")\n",
    "draw_quantum_state(x2,y2,\"v1\")\n",
    "draw_quantum_state(x3,y3,\"v2\")"
   ]
  },
  {
   "cell_type": "code",
   "execution_count": null,
   "metadata": {},
   "outputs": [],
   "source": [
    "print(\"the dot product of |v0> and |v1> is\",x1*x2+y1*y2)\n",
    "print(\"the dot product of |v0> and |v2> is\",x1*x3+y1*y3)\n",
    "print(\"the dot product of |v1> and |v2> is\",x2*x3+y2*y3)"
   ]
  },
  {
   "cell_type": "markdown",
   "metadata": {},
   "source": [
    "<i><b>The orthogonal states can be  distinguished perfectly (with probability 1).</b> \n",
    "\n",
    "More specifically, after applying certain quantum operations to both states, we can observe each with distinguishable outcomes (i.e., 0 and 1 or vice versa) with probability 1.</i>\n",
    "\n",
    "Rotate all these three qubits with an angle $\\theta'$ such that we observe only state $ \\ket{0} $ in the first qubit and only state $ \\ket{1} $ in the second and third qubits (or vice versa). What should be the value of $\\theta'$?\n",
    "\n",
    "Measure each qubit.\n",
    "\n",
    "Execute your program 1000 times."
   ]
  },
  {
   "cell_type": "code",
   "execution_count": null,
   "metadata": {},
   "outputs": [],
   "source": [
    "#\n",
    "# your code is here\n",
    "#\n"
   ]
  },
  {
   "cell_type": "markdown",
   "metadata": {},
   "source": [
    "<a href=\"B64_Rotations_Solutions.ipynb#task3\">click for our solution</a>"
   ]
  },
  {
   "cell_type": "markdown",
   "metadata": {},
   "source": [
    "<h3> Unitary backend</h3>\n",
    "\n",
    "Unitary_simulator gives a unitary representation of all gates in the circuit until this point.\n",
    "\n",
    "``` python\n",
    "    job = execute(circuit, Aer.get_backend('unitary_simulator'))\n",
    "    current_unitary = job.result().get_unitary(circuit, decimals=3)\n",
    "    print(current_unitary)\n",
    "```"
   ]
  },
  {
   "cell_type": "markdown",
   "metadata": {},
   "source": [
    "<h3> Task 4 </h3>\n",
    "\n",
    "Create a quantum circuit with one qubit and one bit.\n",
    "\n",
    "Rotate the qubit with angle $ \\pi/4 $ eight times.\n",
    "\n",
    "After each rotation, print the unitary operator representing the whole rotations until this point.\n",
    "\n",
    "Verify your results by printing the rotation matrix in python. "
   ]
  },
  {
   "cell_type": "code",
   "execution_count": null,
   "metadata": {},
   "outputs": [],
   "source": [
    "#\n",
    "# your code is here\n",
    "#\n",
    "\n"
   ]
  },
  {
   "cell_type": "markdown",
   "metadata": {},
   "source": [
    "<a href=\"B64_Rotations_Solutions.ipynb#task4\">click for our solution</a>"
   ]
  },
  {
   "cell_type": "markdown",
   "metadata": {},
   "source": [
    "<h3>Task 5</h3>\n",
    "\n",
    "In this task, you are going to prove that two consecutive reflections is a rotation.\n",
    "\n",
    "Multiply the matrices for the two operators $\\mathrm{Ref}(\\theta_{1})$ and $\\mathrm{Ref}(\\theta_{2})$ and prove that the effect of two consecutive reflections (first over $\\theta_1$ and then over $\\theta_2$) is a rotation with angle $2(\\theta_2 - \\theta_{1})$.\n",
    "\n",
    "Hint: The following formula will be useful.\n",
    "\n",
    "$ \n",
    "\\begin{align*}\n",
    "\\sin(a+b)&=\\sin(a)\\cos(b)+\\cos(a)\\sin(b)\\\\\n",
    "\\sin(a-b)&=\\sin(a)\\cos(b)-\\cos(a)\\sin(b)\\\\\n",
    "\\cos(a+b)&=\\cos(a)\\cos(b)-\\sin(a)\\sin(b)\\\\\n",
    "\\cos(a-b)&=\\cos(a)\\cos(b)+\\sin(a)\\sin(b)\n",
    "\\end{align*}\n",
    "$"
   ]
  },
  {
   "cell_type": "markdown",
   "metadata": {},
   "source": [
    "<a href=\"B64_Rotations_Solutions.ipynb#task5\">click for our solution</a>"
   ]
  },
  {
   "cell_type": "markdown",
   "metadata": {},
   "source": [
    "### Initializing a qubit with ry-gate\n",
    "\n",
    "Rotations can be used to initialize qubits too. Default initialization state of qubits in qiskit is $\\ket{0}$. Rotations can be applied to such qubits to have a desired arbitrary initialization. Let us create a circuit with a single qubit and set its state to $ \\ket{v} = \\myvector{\\cos \\theta \\\\ \\sin \\theta} $ where $\\theta= \\dfrac{2 \\pi}{3}$."
   ]
  },
  {
   "cell_type": "code",
   "execution_count": null,
   "metadata": {},
   "outputs": [],
   "source": [
    "from qiskit import QuantumRegister, ClassicalRegister, QuantumCircuit, execute, Aer\n",
    "from math import pi\n",
    "\n",
    "# we define a quantum circuit with one qubit and one bit\n",
    "qreg1 =  QuantumRegister(1) # quantum register with a single qubit\n",
    "creg1 = ClassicalRegister(1) # classical register with a single bit\n",
    "mycircuit1 = QuantumCircuit(qreg1,creg1) # quantum circuit with quantum and classical registers\n",
    "\n",
    "# angle of rotation in radian\n",
    "rotation_angle = 2*pi/3\n",
    "\n",
    "# rotate the qubit with rotation_angle\n",
    "mycircuit1.ry(2*rotation_angle,qreg1[0]) \n",
    "\n",
    "# measure the qubit\n",
    "mycircuit1.measure(qreg1,creg1)\n",
    "\n",
    "# draw the circuit\n",
    "mycircuit1.draw(output='mpl')"
   ]
  },
  {
   "cell_type": "code",
   "execution_count": null,
   "metadata": {},
   "outputs": [],
   "source": [
    "# execute the program 1000 times\n",
    "job = execute(mycircuit1,Aer.get_backend('qasm_simulator'),shots=1000)\n",
    "\n",
    "# print the results\n",
    "counts = job.result().get_counts(mycircuit1)\n",
    "print(counts) # counts is a dictionary"
   ]
  },
  {
   "cell_type": "code",
   "execution_count": null,
   "metadata": {},
   "outputs": [],
   "source": [
    "from math import sin,cos\n",
    "\n",
    "# the quantum state\n",
    "quantum_state = [ cos(rotation_angle) , sin (rotation_angle) ]\n",
    "\n",
    "the_expected_number_of_zeros = 1000*cos(rotation_angle)**2\n",
    "the_expected_number_of_ones = 1000*sin(rotation_angle)**2\n",
    "\n",
    "# expected results\n",
    "print(\"The expected value of observing '0' is\",round(the_expected_number_of_zeros,4))\n",
    "print(\"The expected value of observing '1' is\",round(the_expected_number_of_ones,4))"
   ]
  }
 ],
 "metadata": {
  "kernelspec": {
   "display_name": "Python 3",
   "language": "python",
   "name": "python3"
  },
  "language_info": {
   "codemirror_mode": {
    "name": "ipython",
    "version": 3
   },
   "file_extension": ".py",
   "mimetype": "text/x-python",
   "name": "python",
   "nbconvert_exporter": "python",
   "pygments_lexer": "ipython3",
   "version": "3.7.3"
  }
 },
 "nbformat": 4,
 "nbformat_minor": 4
}
