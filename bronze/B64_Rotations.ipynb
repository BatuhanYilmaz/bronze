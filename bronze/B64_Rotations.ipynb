{
 "cells": [
  {
   "cell_type": "markdown",
   "metadata": {},
   "source": [
    "<table>\n",
    "    <tr><td align=\"right\" style=\"background-color:#ffffff;\">\n",
    "        <img src=\"../images/logo.jpg\" width=\"20%\" align=\"right\">\n",
    "    </td></tr>\n",
    "    <tr><td align=\"right\" style=\"color:#777777;background-color:#ffffff;font-size:12px;\">\n",
    "        Abuzer Yakaryilmaz | April 27, 2019 (updated)<br>\n",
    "        Özlem Salehi | July 14, 2019 (updated)\n",
    "    </td></tr>\n",
    "    <tr><td align=\"right\" style=\"color:#bbbbbb;background-color:#ffffff;font-size:11px;font-style:italic;\">\n",
    "        This cell contains some macros. If there is a problem with displaying mathematical formulas, please run this cell to load these macros.\n",
    "    </td></tr>\n",
    "</table>\n",
    "$ \\newcommand{\\bra}[1]{\\langle #1|} $\n",
    "$ \\newcommand{\\ket}[1]{|#1\\rangle} $\n",
    "$ \\newcommand{\\braket}[2]{\\langle #1|#2\\rangle} $\n",
    "$ \\newcommand{\\dot}[2]{ #1 \\cdot #2} $\n",
    "$ \\newcommand{\\biginner}[2]{\\left\\langle #1,#2\\right\\rangle} $\n",
    "$ \\newcommand{\\mymatrix}[2]{\\left( \\begin{array}{#1} #2\\end{array} \\right)} $\n",
    "$ \\newcommand{\\myvector}[1]{\\mymatrix{c}{#1}} $\n",
    "$ \\newcommand{\\myrvector}[1]{\\mymatrix{r}{#1}} $\n",
    "$ \\newcommand{\\mypar}[1]{\\left( #1 \\right)} $\n",
    "$ \\newcommand{\\mybigpar}[1]{ \\Big( #1 \\Big)} $\n",
    "$ \\newcommand{\\sqrttwo}{\\frac{1}{\\sqrt{2}}} $\n",
    "$ \\newcommand{\\dsqrttwo}{\\dfrac{1}{\\sqrt{2}}} $\n",
    "$ \\newcommand{\\onehalf}{\\frac{1}{2}} $\n",
    "$ \\newcommand{\\donehalf}{\\dfrac{1}{2}} $\n",
    "$ \\newcommand{\\hadamard}{ \\mymatrix{rr}{ \\sqrttwo & \\sqrttwo \\\\ \\sqrttwo & -\\sqrttwo }} $\n",
    "$ \\newcommand{\\vzero}{\\myvector{1\\\\0}} $\n",
    "$ \\newcommand{\\vone}{\\myvector{0\\\\1}} $\n",
    "$ \\newcommand{\\vhadamardzero}{\\myvector{ \\sqrttwo \\\\  \\sqrttwo } } $\n",
    "$ \\newcommand{\\vhadamardone}{ \\myrvector{ \\sqrttwo \\\\ -\\sqrttwo } } $\n",
    "$ \\newcommand{\\myarray}[2]{ \\begin{array}{#1}#2\\end{array}} $\n",
    "$ \\newcommand{\\X}{ \\mymatrix{cc}{0 & 1 \\\\ 1 & 0}  } $\n",
    "$ \\newcommand{\\Z}{ \\mymatrix{rr}{1 & 0 \\\\ 0 & -1}  } $\n",
    "$ \\newcommand{\\Htwo}{ \\mymatrix{rrrr}{ \\frac{1}{2} & \\frac{1}{2} & \\frac{1}{2} & \\frac{1}{2} \\\\ \\frac{1}{2} & -\\frac{1}{2} & \\frac{1}{2} & -\\frac{1}{2} \\\\ \\frac{1}{2} & \\frac{1}{2} & -\\frac{1}{2} & -\\frac{1}{2} \\\\ \\frac{1}{2} & -\\frac{1}{2} & -\\frac{1}{2} & \\frac{1}{2} } } $\n",
    "$ \\newcommand{\\CNOT}{ \\mymatrix{cccc}{1 & 0 & 0 & 0 \\\\ 0 & 1 & 0 & 0 \\\\ 0 & 0 & 0 & 1 \\\\ 0 & 0 & 1 & 0} } $\n",
    "$ \\newcommand{\\norm}[1]{ \\left\\lVert #1 \\right\\rVert } $"
   ]
  },
  {
   "cell_type": "markdown",
   "metadata": {},
   "source": [
    "<h2>Rotations</h2>"
   ]
  },
  {
   "cell_type": "markdown",
   "metadata": {},
   "source": [
    "<table align=\"left\"><tr><td><i>\n",
    "We use certain tools from python library \"<b>matplotlib.pyplot</b>\" for drawing. \n",
    "\n",
    "Check the notebook \"<a href=\"../python/Python06_Drawing.ipynb\" target=\"_blank\">Python: Drawing</a>\" for the list of these tools.\n",
    "</i></td></tr></table>"
   ]
  },
  {
   "cell_type": "markdown",
   "metadata": {},
   "source": [
    "We start with drawing the quantum states $ \\ket{0} $ and $ \\ket{+} = \\myvector{ \\frac{1}{\\sqrt{2}} \\\\ \\frac{1}{\\sqrt{2}} } $."
   ]
  },
  {
   "cell_type": "markdown",
   "metadata": {},
   "source": [
    "<i style=\"font-size:10pt;\">\n",
    "Our predefined function \"draw_qubit()\" draws a figure, the origin, the axes, the unit circle, and base quantum states.\n",
    "<br>\n",
    "Our predefined function \"draw_quantum_state(x,y,name)\" draws an arrow from (0,0) to (x,y) and associates it with <u>name</u>.\n",
    "<br>\n",
    "We include our predefined functions with the following line of code:\n",
    "    \n",
    "    %run qlatvia.py\n",
    "</i>   "
   ]
  },
  {
   "cell_type": "code",
   "execution_count": 2,
   "metadata": {},
   "outputs": [
    {
     "data": {
      "text/plain": [
       "Text(0.21, 0.09, 'π/4')"
      ]
     },
     "execution_count": 2,
     "metadata": {},
     "output_type": "execute_result"
    },
    {
     "data": {
      "image/png": "[encoded data removed]",
      "text/plain": [
       "<Figure size 360x360 with 1 Axes>"
      ]
     },
     "metadata": {
      "needs_background": "light"
     },
     "output_type": "display_data"
    }
   ],
   "source": [
    "%run qlatvia.py\n",
    "\n",
    "draw_qubit()\n",
    "\n",
    "sqrttwo=2**0.5\n",
    "\n",
    "draw_quantum_state(1,0,\"\")\n",
    "\n",
    "draw_quantum_state(1/sqrttwo,1/sqrttwo,\"|+>\")\n",
    "\n",
    "# drawing the angle with |0>-axis\n",
    "from matplotlib.pyplot import gca, text\n",
    "from matplotlib.patches import Arc\n",
    "gca().add_patch( Arc((0,0),0.4,0.4,angle=0,theta1=0,theta2=45) )\n",
    "text(0.08,0.05,'.',fontsize=30)\n",
    "text(0.21,0.09,'\\u03C0/4')"
   ]
  },
  {
   "cell_type": "markdown",
   "metadata": {},
   "source": [
    "<h3> Task 1 (Discussion) </h3>\n",
    "\n",
    "Suppose that we start in state $ \\ket{0} $, and then obtain state $\\ket{+}$ by applying a rotation operator. \n",
    "\n",
    "If we apply the same operator consecutively, what can be the new quantum state?\n",
    "\n",
    "Here are eight candidates:\n",
    "\n",
    "$$\n",
    "    \\myarray{|c|c|c|c|}{\n",
    "        \\hline\n",
    "        A & \\ket{0} = \\vzero & E & \\ket{+} = \\myrvector{\\sqrttwo \\\\ \\sqrttwo}\n",
    "        \\\\ \\hline\n",
    "        B & \\ket{1} = \\vone & F & \\ket{-} = \\myrvector{\\sqrttwo \\\\ -\\sqrttwo}\n",
    "        \\\\ \\hline\n",
    "        C & -\\ket{0} = \\myrvector{-1 \\\\ 0} & G & -\\ket{+} = \\myrvector{-\\sqrttwo \\\\ -\\sqrttwo}\n",
    "        \\\\ \\hline\n",
    "        D & -\\ket{1} = \\myrvector{0 \\\\ -1} & H & -\\ket{-} = \\myrvector{-\\sqrttwo \\\\ \\sqrttwo}\n",
    "        \\\\ \\hline\n",
    "    }\n",
    "$$"
   ]
  },
  {
   "cell_type": "markdown",
   "metadata": {},
   "source": [
    "<h3> Rotation with degree $\\pi/4$ </h3>"
   ]
  },
  {
   "cell_type": "markdown",
   "metadata": {},
   "source": [
    "Its matrix form is similar to Hadamard operator:\n",
    "\n",
    "$$ R(\\pi/4) = \\mymatrix{rr}{\\cos(\\pi/4) & -\\sin(\\pi/4) \\\\ \\sin(\\pi/4) & \\cos(\\pi/4) }\n",
    "= \\mymatrix{rr}{ \\sqrttwo & -\\sqrttwo \\\\  \\sqrttwo & \\sqrttwo} $$."
   ]
  },
  {
   "cell_type": "markdown",
   "metadata": {},
   "source": [
    "<h3> Task 2 </h3>\n",
    "\n",
    "Start with state $ \\ket{0} $. \n",
    "\n",
    "Apply $ R(\\pi/4) $ 7 times, and draw each state on the unit circle."
   ]
  },
  {
   "cell_type": "code",
   "execution_count": null,
   "metadata": {},
   "outputs": [],
   "source": [
    "%run qlatvia.py\n",
    "\n",
    "draw_qubit()\n",
    "\n",
    "[x,y]=[1,0]\n",
    "\n",
    "draw_quantum_state(x,y,\"v0\")\n",
    "\n",
    "sqrttwo = 2**0.5\n",
    "oversqrttwo = 1/sqrttwo\n",
    "\n",
    "R = [ [oversqrttwo, -1*oversqrttwo], [oversqrttwo,oversqrttwo] ]\n",
    "\n",
    "#\n",
    "# your code is here\n",
    "#\n",
    "# "
   ]
  },
  {
   "cell_type": "markdown",
   "metadata": {},
   "source": [
    "<a href=\"B64_Rotations_Solutions.ipynb#task2\">click for our solution</a>"
   ]
  },
  {
   "cell_type": "markdown",
   "metadata": {},
   "source": [
    "<h3> Rotation with degree $\\theta$ </h3>"
   ]
  },
  {
   "cell_type": "markdown",
   "metadata": {},
   "source": [
    "Recall that the matrix form of rotation is as follows:\n",
    "\n",
    "$$ R(\\theta) = \\mymatrix{rr}{\\cos(\\theta) & -\\sin(\\theta) \\\\ \\sin(\\theta) & \\cos(\\theta) }, $$\n",
    "\n",
    "where $ \\theta $ is the angle of rotation (in counter-clockwise direction)."
   ]
  },
  {
   "cell_type": "markdown",
   "metadata": {},
   "source": [
    "<h3> Rotations with ry-gate </h3>"
   ]
  },
  {
   "cell_type": "markdown",
   "metadata": {},
   "source": [
    "Recall that the ry-gate is used for rotation in 2-dimensional real-valued plane.\n",
    "\n",
    "\n",
    "If our angle is $ \\theta $ radians, then we pass $ 2 \\theta $ radians as the parameter to ry-gate.\n",
    "\n",
    "Then ry-gate implements the rotation with angle $\\theta$. \n",
    "\n",
    "The default direction of a rotation by ry-gate is counterclockwise.\n",
    "\n",
    "    mycircuit.ry(angle_of_rotation,quantum_register)"
   ]
  },
  {
   "cell_type": "markdown",
   "metadata": {},
   "source": [
    "<h3> Example </h3>\n",
    "\n",
    "We implement the rotation with angle $ \\pi/4 $ in qiskit.\n",
    "\n",
    "We start with state $\\ket{0}$, and apply ry-gate 8 times. \n",
    "\n",
    "After each iteration, <b>we read the quantum state from the local simulator</b>, and then draw it."
   ]
  },
  {
   "cell_type": "code",
   "execution_count": 3,
   "metadata": {},
   "outputs": [
    {
     "name": "stdout",
     "output_type": "stream",
     "text": [
      "iteration 1 : the quantum state is [0.70710678+0.j 0.70710678+0.j]\n",
      "iteration 2 : the quantum state is [0.+0.j 1.+0.j]\n",
      "iteration 3 : the quantum state is [-0.70710678+0.j  0.70710678+0.j]\n",
      "iteration 4 : the quantum state is [-1.+0.j  0.+0.j]\n",
      "iteration 5 : the quantum state is [-0.70710678+0.j -0.70710678+0.j]\n",
      "iteration 6 : the quantum state is [ 0.+0.j -1.+0.j]\n",
      "iteration 7 : the quantum state is [ 0.70710678+0.j -0.70710678+0.j]\n",
      "iteration 8 : the quantum state is [1.+0.j 0.+0.j]\n"
     ]
    },
    {
     "data": {
      "image/png": "[encoded data removed]",
      "text/plain": [
       "<Figure size 360x360 with 1 Axes>"
      ]
     },
     "metadata": {
      "needs_background": "light"
     },
     "output_type": "display_data"
    }
   ],
   "source": [
    "%run qlatvia.py\n",
    "\n",
    "draw_qubit()\n",
    "\n",
    "from qiskit import QuantumRegister, ClassicalRegister, QuantumCircuit, execute, Aer\n",
    "from math import pi\n",
    "\n",
    "# we define a quantum circuit with one qubit and one bit\n",
    "qreg1 =  QuantumRegister(1) # quantum register with a single qubit\n",
    "creg1 = ClassicalRegister(1) # classical register with a single bit\n",
    "mycircuit1 = QuantumCircuit(qreg1,creg1) # quantum circuit with quantum and classical registers\n",
    "\n",
    "rotation_angle = pi/4\n",
    "\n",
    "for i in range(1,9):\n",
    "    mycircuit1.ry(2*rotation_angle,qreg1[0]) \n",
    "     # the following code is used to get the quantum state of the quantum register\n",
    "    job = execute(mycircuit1,Aer.get_backend('statevector_simulator'))\n",
    "    current_quantum_state=job.result().get_statevector(mycircuit1) \n",
    "    print(\"iteration\",i,\": the quantum state is\",current_quantum_state)\n",
    "    x_value = current_quantum_state[0].real # get the amplitude of |0>\n",
    "    y_value = current_quantum_state[1].real # get the amplitude of |1>\n",
    "    draw_quantum_state(x_value,y_value,\"|v\"+str(i)+\">\")"
   ]
  },
  {
   "cell_type": "markdown",
   "metadata": {},
   "source": [
    "<h3> Task 3 </h3>\n",
    "\n",
    "Repeat the same example 12 times for angle $ \\pi/6 $. \n",
    "\n",
    "Repeat the same example 16 times for angle $ 3\\pi/8 $. \n",
    "\n",
    "Repeat the same example 20 times for angle $ \\sqrt{2}\\pi $."
   ]
  },
  {
   "cell_type": "code",
   "execution_count": null,
   "metadata": {},
   "outputs": [],
   "source": [
    "#\n",
    "# your code is here\n",
    "#\n"
   ]
  },
  {
   "cell_type": "markdown",
   "metadata": {},
   "source": [
    "<h3> Task 4 </h3>\n",
    "\n",
    "Create three different quantum circuits where each circuit has a single qubit.\n",
    "\n",
    "Randomly pick an angle $ \\theta $.\n",
    "\n",
    "Rotate the qubit of the first circuit with angle $ \\theta $.\n",
    "\n",
    "Rotate the qubits of the second and third circuits with angles $\\theta_1$ and $ \\theta_2 $, respectively, providing that both states are different but orthogonal to the state of the qubit of the first circuit.\n",
    "\n",
    "Read the states of these three qubits from the local simulator, say $ \\ket{v_0} $, $ \\ket{v_1} $, and $ \\ket{v_2} $, respectively. \n",
    "\n",
    "Verify the following by drawing or by finding their dot products:\n",
    "<ol>\n",
    "    <li>$ \\ket{v_0} $ and $ \\ket{v_1} $ are orthogonal (i.e., their dot product is zero.)</li>\n",
    "    <li>$ \\ket{v_0} $ and $ \\ket{v_2} $ are orthogonal</li>\n",
    "    <li>$ \\ket{v_1} = -1\\ket{v_2} $ (i.e., their dot product is -1).</li>\n",
    "</ol>\n",
    "\n",
    "<i><b>The orthogonal states can be  distinguished perfectly (with probability 1).</b> \n",
    "\n",
    "More specifically, after applying certain quantum operations to both states, we can observe each with distinguishable outcomes (i.e., 0 and 1 or vice versa) with probability 1.</i>\n",
    "\n",
    "Rotate all these three qubits with an angle $\\theta'$ such that we observe only state $ \\ket{0} $ in the first qubit and only state $ \\ket{1} $ in the second and third qubits (or vice versa).\n",
    "\n",
    "<i> Remark that, after picking $\\theta$, you determine $\\theta_1$, $ \\theta_2 $, and $ \\theta' $.</i>\n",
    "\n",
    "Measure each qubit.\n",
    "\n",
    "Execute your program 1000 times."
   ]
  },
  {
   "cell_type": "code",
   "execution_count": null,
   "metadata": {},
   "outputs": [],
   "source": [
    "#\n",
    "# your code is here\n",
    "#\n"
   ]
  },
  {
   "cell_type": "markdown",
   "metadata": {},
   "source": [
    "<a href=\"B64_Rotations_Solutions.ipynb#task4\">click for our solution</a>"
   ]
  },
  {
   "cell_type": "markdown",
   "metadata": {},
   "source": [
    "<h3> Unitary backend</h3>\n",
    "\n",
    "Unitary_simulator gives a unitary representation of all gates in the circuit until this point.\n",
    "\n",
    "    job = execute(circuit, Aer.get_backend('unitary_simulator'))\n",
    "    current_unitary = job.result().get_unitary(circuit, decimals=3)\n",
    "    print(current_unitary)"
   ]
  },
  {
   "cell_type": "markdown",
   "metadata": {},
   "source": [
    "<h3> Task 5 </h3>\n",
    "\n",
    "Create a quantum circuit with one qubit and one bit.\n",
    "\n",
    "Rotate the qubit with angle $ \\pi/4 $ eight times.\n",
    "\n",
    "After each rotation, print the unitary operator representing the whole rotations until this point.\n",
    "\n",
    "Verify your results by printing the rotation matrix in python. "
   ]
  },
  {
   "cell_type": "code",
   "execution_count": null,
   "metadata": {},
   "outputs": [],
   "source": [
    "#\n",
    "# your code is here\n",
    "#\n",
    "\n"
   ]
  },
  {
   "cell_type": "markdown",
   "metadata": {},
   "source": [
    "<a href=\"B64_Rotations_Solutions.ipynb#task5\">click for our solution</a>"
   ]
  },
  {
   "cell_type": "markdown",
   "metadata": {},
   "source": [
    "<h3>Task 6</h3>\n",
    "\n",
    "In this task, you are going to prove that two consecutive reflections is a rotation.\n",
    "\n",
    "Multiply the matrices for the two operators $\\mathrm{Ref}(\\theta_{1})$ and $\\mathrm{Ref}(\\theta_{2})$ and prove that the effect of two consecutive reflections (first over $\\theta_1$ and then over $\\theta_2$) is a rotation with angle $2(\\theta_2 - \\theta_{1})$.\n",
    "\n",
    "Hint: The following formula will be useful.\n",
    "\n",
    "$ \n",
    "\\begin{align*}\n",
    "\\sin(a+b)&=\\sin(a)\\cos(b)+\\cos(a)\\sin(b)\\\\\n",
    "\\sin(a-b)&=\\sin(a)\\cos(b)-\\cos(a)\\sin(b)\\\\\n",
    "\\cos(a+b)&=\\cos(a)\\cos(b)-\\sin(a)\\sin(b)\\\\\n",
    "\\cos(a-b)&=\\cos(a)\\cos(b)+\\sin(a)\\sin(b)\n",
    "\\end{align*}\n",
    "$"
   ]
  },
  {
   "cell_type": "markdown",
   "metadata": {},
   "source": [
    "<a href=\"B64_Rotations_Solutions.ipynb#task6\">click for our solution</a>"
   ]
  },
  {
   "cell_type": "code",
   "execution_count": null,
   "metadata": {},
   "outputs": [],
   "source": []
  }
 ],
 "metadata": {
  "kernelspec": {
   "display_name": "Python 3",
   "language": "python",
   "name": "python3"
  },
  "language_info": {
   "codemirror_mode": {
    "name": "ipython",
    "version": 3
   },
   "file_extension": ".py",
   "mimetype": "text/x-python",
   "name": "python",
   "nbconvert_exporter": "python",
   "pygments_lexer": "ipython3",
   "version": "3.7.3"
  }
 },
 "nbformat": 4,
 "nbformat_minor": 2
}
