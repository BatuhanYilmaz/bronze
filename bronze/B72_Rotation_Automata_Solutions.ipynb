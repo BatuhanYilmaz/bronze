{
 "cells": [
  {
   "cell_type": "markdown",
   "metadata": {},
   "source": [
    "<table>\n",
    "    <tr><td align=\"right\" style=\"background-color:#ffffff;\">\n",
    "        <img src=\"../images/logo.jpg\" width=\"20%\" align=\"right\">\n",
    "    </td></tr>\n",
    "    <tr><td align=\"right\" style=\"color:#777777;background-color:#ffffff;font-size:12px;\">\n",
    "        Abuzer Yakaryilmaz | April 30, 2019 (updated)<br>\n",
    "        Özlem Salehi | July 06, 2019 (updated)\n",
    "    </td></tr>\n",
    "    <tr><td align=\"right\" style=\"color:#bbbbbb;background-color:#ffffff;font-size:11px;font-style:italic;\">\n",
    "        This cell contains some macros. If there is a problem with displaying mathematical formulas, please run this cell to load these macros.\n",
    "    </td></tr>\n",
    "</table>\n",
    "$ \\newcommand{\\bra}[1]{\\langle #1|} $\n",
    "$ \\newcommand{\\ket}[1]{|#1\\rangle} $\n",
    "$ \\newcommand{\\braket}[2]{\\langle #1|#2\\rangle} $\n",
    "$ \\newcommand{\\dot}[2]{ #1 \\cdot #2} $\n",
    "$ \\newcommand{\\biginner}[2]{\\left\\langle #1,#2\\right\\rangle} $\n",
    "$ \\newcommand{\\mymatrix}[2]{\\left( \\begin{array}{#1} #2\\end{array} \\right)} $\n",
    "$ \\newcommand{\\myvector}[1]{\\mymatrix{c}{#1}} $\n",
    "$ \\newcommand{\\myrvector}[1]{\\mymatrix{r}{#1}} $\n",
    "$ \\newcommand{\\mypar}[1]{\\left( #1 \\right)} $\n",
    "$ \\newcommand{\\mybigpar}[1]{ \\Big( #1 \\Big)} $\n",
    "$ \\newcommand{\\sqrttwo}{\\frac{1}{\\sqrt{2}}} $\n",
    "$ \\newcommand{\\dsqrttwo}{\\dfrac{1}{\\sqrt{2}}} $\n",
    "$ \\newcommand{\\onehalf}{\\frac{1}{2}} $\n",
    "$ \\newcommand{\\donehalf}{\\dfrac{1}{2}} $\n",
    "$ \\newcommand{\\hadamard}{ \\mymatrix{rr}{ \\sqrttwo & \\sqrttwo \\\\ \\sqrttwo & -\\sqrttwo }} $\n",
    "$ \\newcommand{\\vzero}{\\myvector{1\\\\0}} $\n",
    "$ \\newcommand{\\vone}{\\myvector{0\\\\1}} $\n",
    "$ \\newcommand{\\vhadamardzero}{\\myvector{ \\sqrttwo \\\\  \\sqrttwo } } $\n",
    "$ \\newcommand{\\vhadamardone}{ \\myrvector{ \\sqrttwo \\\\ -\\sqrttwo } } $\n",
    "$ \\newcommand{\\myarray}[2]{ \\begin{array}{#1}#2\\end{array}} $\n",
    "$ \\newcommand{\\X}{ \\mymatrix{cc}{0 & 1 \\\\ 1 & 0}  } $\n",
    "$ \\newcommand{\\Z}{ \\mymatrix{rr}{1 & 0 \\\\ 0 & -1}  } $\n",
    "$ \\newcommand{\\Htwo}{ \\mymatrix{rrrr}{ \\frac{1}{2} & \\frac{1}{2} & \\frac{1}{2} & \\frac{1}{2} \\\\ \\frac{1}{2} & -\\frac{1}{2} & \\frac{1}{2} & -\\frac{1}{2} \\\\ \\frac{1}{2} & \\frac{1}{2} & -\\frac{1}{2} & -\\frac{1}{2} \\\\ \\frac{1}{2} & -\\frac{1}{2} & -\\frac{1}{2} & \\frac{1}{2} } } $\n",
    "$ \\newcommand{\\CNOT}{ \\mymatrix{cccc}{1 & 0 & 0 & 0 \\\\ 0 & 1 & 0 & 0 \\\\ 0 & 0 & 0 & 1 \\\\ 0 & 0 & 1 & 0} } $\n",
    "$ \\newcommand{\\norm}[1]{ \\left\\lVert #1 \\right\\rVert } $"
   ]
  },
  {
   "cell_type": "markdown",
   "metadata": {},
   "source": [
    "<h2> <font color=\"blue\"> Solutions for </font>Rotation Automata</h2>"
   ]
  },
  {
   "cell_type": "markdown",
   "metadata": {},
   "source": [
    "<a id=\"task1\"></a>\n",
    "<h3> Task 1 </h3>\n",
    "\n",
    "Do the same task given above by using different angles.\n",
    "\n",
    "Test at least three different angles. \n",
    "\n",
    "Please modify the code above."
   ]
  },
  {
   "cell_type": "markdown",
   "metadata": {},
   "source": [
    "<h3>Solution</h3>"
   ]
  },
  {
   "cell_type": "markdown",
   "metadata": {},
   "source": [
    "Any odd multiple of $ \\frac{\\pi}{16} $ works: $ i \\frac{\\pi}{16} $, where $ i \\in \\{1,3,5,7,\\ldots\\} $"
   ]
  },
  {
   "cell_type": "markdown",
   "metadata": {},
   "source": [
    "<a id=\"task2\"></a>\n",
    "<h3> Task 2 </h3>\n",
    "\n",
    "Let $ \\mathsf{p} = 11 $.\n",
    "\n",
    "Determine an angle of rotation such that when the length of stream is a multiple of $ \\sf p $, then we observe only state $ 0 $, and we can also observe state $ 1 $, otherwise.\n",
    "\n",
    "Test your rotation by using a quantum circuit. Execute the circuit for all streams of lengths from 1 to 11."
   ]
  },
  {
   "cell_type": "markdown",
   "metadata": {},
   "source": [
    "<h3>Solution</h3>"
   ]
  },
  {
   "cell_type": "markdown",
   "metadata": {},
   "source": [
    "We can pick any angle $ k\\frac{2\\pi}{11} $ for $ k \\in \\{1,\\ldots,10\\} $."
   ]
  },
  {
   "cell_type": "code",
   "execution_count": 1,
   "metadata": {},
   "outputs": [
    {
     "name": "stdout",
     "output_type": "stream",
     "text": [
      "the picked angle is 4 times of 2pi/11\n",
      "\n",
      "stream of lenght 1 -> {'1': 575, '0': 425}\n",
      "stream of lenght 2 -> {'1': 974, '0': 26}\n",
      "stream of lenght 3 -> {'1': 300, '0': 700}\n",
      "stream of lenght 4 -> {'1': 67, '0': 933}\n",
      "stream of lenght 5 -> {'1': 821, '0': 179}\n",
      "stream of lenght 6 -> {'1': 805, '0': 195}\n",
      "stream of lenght 7 -> {'1': 81, '0': 919}\n",
      "stream of lenght 8 -> {'1': 317, '0': 683}\n",
      "stream of lenght 9 -> {'1': 985, '0': 15}\n",
      "stream of lenght 10 -> {'1': 564, '0': 436}\n",
      "stream of lenght 11 -> {'0': 1000}\n"
     ]
    }
   ],
   "source": [
    "from qiskit import QuantumRegister, ClassicalRegister, QuantumCircuit, execute, Aer\n",
    "from math import pi\n",
    "from random import randrange\n",
    "\n",
    "# the angle of rotation\n",
    "r = randrange(1,11)\n",
    "print(\"the picked angle is\",r,\"times of 2pi/11\")\n",
    "print()  \n",
    "theta = r*2*pi/11\n",
    "\n",
    "# we read streams of length from 1 to 11\n",
    "for i in range(1,12):\n",
    "    # quantum circuit with one qubit and one bit\n",
    "    qreg =  QuantumRegister(1) \n",
    "    creg = ClassicalRegister(1) \n",
    "    mycircuit = QuantumCircuit(qreg,creg)\n",
    "    # the stream of length i\n",
    "    for j in range(i):\n",
    "        mycircuit.ry(2*theta,qreg[0]) # apply one rotation for each symbol\n",
    "    # we measure after reading the whole stream\n",
    "    mycircuit.measure(qreg[0],creg[0])\n",
    "    # execute the circuit 1000 times\n",
    "    job = execute(mycircuit,Aer.get_backend('qasm_simulator'),shots=1000)\n",
    "    counts = job.result().get_counts(mycircuit)\n",
    "    print(\"stream of lenght\",i,\"->\",counts)"
   ]
  },
  {
   "cell_type": "markdown",
   "metadata": {},
   "source": [
    "<a id=\"task3\"></a>\n",
    "<h3> Task 3 </h3>\n",
    "\n",
    "List down 10 possible different angles for Task 2, where each angle should be between 0 and $2\\pi$."
   ]
  },
  {
   "cell_type": "markdown",
   "metadata": {},
   "source": [
    "<h3>Solution</h3>"
   ]
  },
  {
   "cell_type": "markdown",
   "metadata": {},
   "source": [
    "Any angle $ k\\frac{2\\pi}{11} $ for $ k \\in \\{1,\\ldots,10\\} $."
   ]
  },
  {
   "cell_type": "markdown",
   "metadata": {},
   "source": [
    "<h3>Task 4</h3>\n",
    "\n",
    "For each stream of length from 1 to 10, experimentially determine the best angle of rotation (we observe state $\\ket{1}$ the most) by using your circuit."
   ]
  },
  {
   "cell_type": "markdown",
   "metadata": {},
   "source": [
    "<h3>Solution</h3>"
   ]
  },
  {
   "cell_type": "code",
   "execution_count": 2,
   "metadata": {},
   "outputs": [
    {
     "name": "stdout",
     "output_type": "stream",
     "text": [
      "length 1-> 1:2862  2:8243  3:9819  4:5739  5:778  6:790  7:5708  8:9783  9:8279  10:2874  \n",
      "for length 1 , the best k is 3\n",
      "\n",
      "length 2-> 1:8246  2:5759  3:763  4:9814  5:2863  6:2959  7:9795  8:775  9:5699  10:8289  \n",
      "for length 2 , the best k is 4\n",
      "\n",
      "length 3-> 1:9795  2:817  3:8243  4:2923  5:5669  6:5638  7:2901  8:8249  9:786  10:9793  \n",
      "for length 3 , the best k is 1\n",
      "\n",
      "length 4-> 1:5721  2:9805  3:2939  4:766  5:8257  6:8322  7:786  8:2997  9:9789  10:5771  \n",
      "for length 4 , the best k is 2\n",
      "\n",
      "length 5-> 1:782  2:2903  3:5587  4:8257  5:9797  6:9803  7:8310  8:5654  9:3005  10:798  \n",
      "for length 5 , the best k is 6\n",
      "\n",
      "length 6-> 1:819  2:2864  3:5685  4:8373  5:9789  6:9781  7:8230  8:5789  9:2866  10:809  \n",
      "for length 6 , the best k is 5\n",
      "\n",
      "length 7-> 1:5717  2:9820  3:2891  4:767  5:8251  6:8256  7:756  8:2899  9:9825  10:5732  \n",
      "for length 7 , the best k is 9\n",
      "\n",
      "length 8-> 1:9831  2:766  3:8215  4:2796  5:5679  6:5721  7:2846  8:8272  9:743  10:9814  \n",
      "for length 8 , the best k is 1\n",
      "\n",
      "length 9-> 1:8274  2:5670  3:841  4:9795  5:2958  6:2935  7:9805  8:809  9:5749  10:8327  \n",
      "for length 9 , the best k is 7\n",
      "\n",
      "length 10-> 1:2972  2:8235  3:9778  4:5743  5:744  6:783  7:5721  8:9772  9:8323  10:2883  \n",
      "for length 10 , the best k is 3\n",
      "\n"
     ]
    }
   ],
   "source": [
    "from qiskit import QuantumRegister, ClassicalRegister, QuantumCircuit, execute, Aer\n",
    "from math import pi\n",
    "from random import randrange\n",
    "\n",
    "# for each stream of length from 1 to 10\n",
    "for i in range(1,11):\n",
    "    # we try each angle of the form k*2*pi/11 for k=1,...,10\n",
    "    # we try to find the best k for which we observe 1 the most\n",
    "    number_of_one_state = 0\n",
    "    best_k = 1\n",
    "    all_outcomes_for_i = \"length \"+str(i)+\"-> \"\n",
    "    for k in range(1,11):\n",
    "        theta = k*2*pi/11\n",
    "        # quantum circuit with one qubit and one bit\n",
    "        qreg =  QuantumRegister(1) \n",
    "        creg = ClassicalRegister(1) \n",
    "        mycircuit = QuantumCircuit(qreg,creg)\n",
    "        # the stream of length i\n",
    "        for j in range(i):\n",
    "            mycircuit.ry(2*theta,qreg[0]) # apply one rotation for each symbol\n",
    "            # we measure after reading the whole stream\n",
    "        mycircuit.measure(qreg[0],creg[0])\n",
    "        # execute the circuit 10000 times\n",
    "        job = execute(mycircuit,Aer.get_backend('qasm_simulator'),shots=10000)\n",
    "        counts = job.result().get_counts(mycircuit)\n",
    "        all_outcomes_for_i = all_outcomes_for_i + str(k)+ \":\" + str(counts['1']) + \"  \"\n",
    "        if int(counts['1']) > number_of_one_state:\n",
    "            number_of_one_state = counts['1']\n",
    "            best_k = k\n",
    "    print(all_outcomes_for_i)\n",
    "    print(\"for length\",i,\", the best k is\",best_k)\n",
    "    print()"
   ]
  },
  {
   "cell_type": "markdown",
   "metadata": {},
   "source": [
    "<a id=\"task5\"></a>\n",
    "<h3> Task 5 </h3>\n",
    "\n",
    "Let $ \\mathsf{p} = 31 $.\n",
    "\n",
    "Create a circuit with three quantum bits and three classical bits.\n",
    "\n",
    "Rotate the qubits with angles $ 3\\frac{2\\pi}{31} $, $ 7\\frac{2\\pi}{31} $, and $ 11\\frac{2\\pi}{31} $, respectively.\n",
    "\n",
    "Execute your circuit for all streams of lengths from 1 to 30. Check whether the number of state $ \\ket{000} $ is less than half or not.\n",
    "\n",
    "<i>Note that whether a key is in dictionary or not can be checked as follows:</i>\n",
    "\n",
    "    if '000' in counts.keys():\n",
    "        c = counts['000']\n",
    "    else:\n",
    "        c = 0"
   ]
  },
  {
   "cell_type": "markdown",
   "metadata": {},
   "source": [
    "<h3>Solution</h3>"
   ]
  },
  {
   "cell_type": "code",
   "execution_count": 3,
   "metadata": {},
   "outputs": [
    {
     "name": "stdout",
     "output_type": "stream",
     "text": [
      "{'101': 4, '100': 10, '000': 6, '010': 237, '111': 195, '001': 6, '011': 132, '110': 410}\n",
      "000 is observed 6 times out of 1000\n",
      "the ratio of 000 is  0.6 %\n",
      "\n",
      "{'101': 769, '100': 97, '000': 7, '010': 1, '111': 68, '001': 41, '011': 7, '110': 10}\n",
      "000 is observed 7 times out of 1000\n",
      "the ratio of 000 is  0.7 %\n",
      "\n",
      "{'101': 22, '100': 2, '000': 13, '010': 42, '111': 128, '001': 129, '011': 654, '110': 10}\n",
      "000 is observed 13 times out of 1000\n",
      "the ratio of 000 is  1.3 %\n",
      "\n",
      "{'101': 68, '100': 101, '000': 302, '010': 148, '111': 33, '001': 192, '011': 113, '110': 43}\n",
      "000 is observed 302 times out of 1000\n",
      "the ratio of 000 is  30.2 %\n",
      "\n",
      "{'100': 444, '000': 13, '010': 20, '101': 5, '111': 4, '110': 514}\n",
      "000 is observed 13 times out of 1000\n",
      "the ratio of 000 is  1.3 %\n",
      "\n",
      "{'101': 56, '100': 177, '000': 148, '010': 214, '111': 75, '001': 32, '011': 70, '110': 228}\n",
      "000 is observed 148 times out of 1000\n",
      "the ratio of 000 is  14.8 %\n",
      "\n",
      "{'100': 1, '000': 162, '010': 54, '101': 14, '111': 1, '001': 588, '011': 180}\n",
      "000 is observed 162 times out of 1000\n",
      "the ratio of 000 is  16.2 %\n",
      "\n",
      "{'101': 79, '100': 3, '000': 2, '010': 5, '111': 622, '001': 38, '011': 238, '110': 13}\n",
      "000 is observed 2 times out of 1000\n",
      "the ratio of 000 is  0.2 %\n",
      "\n",
      "{'101': 430, '100': 414, '000': 58, '010': 3, '111': 20, '001': 52, '011': 4, '110': 19}\n",
      "000 is observed 58 times out of 1000\n",
      "the ratio of 000 is  5.8 %\n",
      "\n",
      "{'111': 3, '011': 36, '110': 100, '010': 861}\n",
      "000 is observed 0 times out of 1000\n",
      "the ratio of 000 is  0.0 %\n",
      "\n",
      "{'100': 273, '000': 550, '010': 4, '101': 48, '001': 122, '011': 1, '110': 2}\n",
      "000 is observed 550 times out of 1000\n",
      "the ratio of 000 is  55.0 %\n",
      "\n",
      "{'100': 27, '000': 1, '101': 50, '111': 692, '011': 2, '110': 228}\n",
      "000 is observed 1 times out of 1000\n",
      "the ratio of 000 is  0.1 %\n",
      "\n",
      "{'100': 2, '010': 1, '101': 388, '111': 54, '001': 468, '011': 87}\n",
      "000 is observed 0 times out of 1000\n",
      "the ratio of 000 is  0.0 %\n",
      "\n",
      "{'101': 8, '100': 4, '000': 99, '010': 261, '111': 21, '001': 178, '011': 411, '110': 18}\n",
      "000 is observed 99 times out of 1000\n",
      "the ratio of 000 is  9.9 %\n",
      "\n",
      "{'101': 52, '100': 439, '000': 103, '010': 62, '111': 32, '001': 17, '011': 4, '110': 291}\n",
      "000 is observed 103 times out of 1000\n",
      "the ratio of 000 is  10.3 %\n",
      "\n",
      "{'101': 34, '100': 438, '000': 92, '010': 70, '111': 41, '001': 8, '011': 3, '110': 314}\n",
      "000 is observed 92 times out of 1000\n",
      "the ratio of 000 is  9.2 %\n",
      "\n",
      "{'101': 7, '100': 2, '000': 95, '010': 276, '111': 14, '001': 163, '011': 431, '110': 12}\n",
      "000 is observed 95 times out of 1000\n",
      "the ratio of 000 is  9.5 %\n",
      "\n",
      "{'100': 1, '000': 2, '010': 2, '101': 334, '111': 60, '001': 500, '011': 101}\n",
      "000 is observed 2 times out of 1000\n",
      "the ratio of 000 is  0.2 %\n",
      "\n",
      "{'100': 15, '010': 2, '101': 41, '111': 695, '110': 247}\n",
      "000 is observed 0 times out of 1000\n",
      "the ratio of 000 is  0.0 %\n",
      "\n",
      "{'100': 287, '000': 546, '010': 3, '101': 55, '111': 1, '001': 107, '110': 1}\n",
      "000 is observed 546 times out of 1000\n",
      "the ratio of 000 is  54.6 %\n",
      "\n",
      "{'000': 3, '010': 863, '111': 4, '011': 48, '110': 82}\n",
      "000 is observed 3 times out of 1000\n",
      "the ratio of 000 is  0.3 %\n",
      "\n",
      "{'101': 437, '100': 399, '000': 55, '010': 3, '111': 28, '001': 61, '011': 3, '110': 14}\n",
      "000 is observed 55 times out of 1000\n",
      "the ratio of 000 is  5.5 %\n",
      "\n",
      "{'100': 2, '010': 11, '101': 86, '111': 614, '001': 35, '011': 240, '110': 12}\n",
      "000 is observed 0 times out of 1000\n",
      "the ratio of 000 is  0.0 %\n",
      "\n",
      "{'100': 1, '000': 154, '010': 50, '101': 5, '001': 613, '011': 177}\n",
      "000 is observed 154 times out of 1000\n",
      "the ratio of 000 is  15.4 %\n",
      "\n",
      "{'101': 58, '100': 134, '000': 150, '010': 212, '111': 64, '001': 40, '011': 68, '110': 274}\n",
      "000 is observed 150 times out of 1000\n",
      "the ratio of 000 is  15.0 %\n",
      "\n",
      "{'100': 454, '000': 14, '010': 10, '101': 6, '111': 7, '110': 509}\n",
      "000 is observed 14 times out of 1000\n",
      "the ratio of 000 is  1.4 %\n",
      "\n",
      "{'101': 73, '100': 87, '000': 311, '010': 134, '111': 34, '001': 219, '011': 99, '110': 43}\n",
      "000 is observed 311 times out of 1000\n",
      "the ratio of 000 is  31.1 %\n",
      "\n",
      "{'000': 12, '010': 44, '101': 19, '111': 129, '001': 139, '011': 645, '110': 12}\n",
      "000 is observed 12 times out of 1000\n",
      "the ratio of 000 is  1.2 %\n",
      "\n",
      "{'101': 762, '100': 101, '000': 6, '010': 1, '111': 69, '001': 46, '011': 9, '110': 6}\n",
      "000 is observed 6 times out of 1000\n",
      "the ratio of 000 is  0.6 %\n",
      "\n",
      "{'101': 4, '100': 9, '000': 5, '010': 267, '111': 192, '001': 1, '011': 117, '110': 405}\n",
      "000 is observed 5 times out of 1000\n",
      "the ratio of 000 is  0.5 %\n",
      "\n",
      "{'000': 1000}\n",
      "000 is observed 1000 times out of 1000\n",
      "the ratio of 000 is  100.0 %\n",
      "\n"
     ]
    }
   ],
   "source": [
    "from qiskit import QuantumRegister, ClassicalRegister, QuantumCircuit, execute, Aer\n",
    "from math import pi\n",
    "from random import randrange\n",
    "\n",
    "# the angles of rotations\n",
    "theta1 = 3*2*pi/31\n",
    "theta2 = 7*2*pi/31\n",
    "theta3 = 11*2*pi/31\n",
    "\n",
    "# we read streams of length from 1 to 30\n",
    "for i in range(1,32):\n",
    "    # quantum circuit with three qubits and three bits\n",
    "    qreg =  QuantumRegister(3) \n",
    "    creg = ClassicalRegister(3) \n",
    "    mycircuit = QuantumCircuit(qreg,creg)\n",
    "    # the stream of length i\n",
    "    for j in range(i):\n",
    "        # apply rotations for each symbol\n",
    "        mycircuit.ry(2*theta1,qreg[0]) \n",
    "        mycircuit.ry(2*theta2,qreg[1]) \n",
    "        mycircuit.ry(2*theta3,qreg[2]) \n",
    "    # we measure after reading the whole stream\n",
    "    mycircuit.measure(qreg,creg)\n",
    "    # execute the circuit N times\n",
    "    N = 1000\n",
    "    job = execute(mycircuit,Aer.get_backend('qasm_simulator'),shots=N)\n",
    "    counts = job.result().get_counts(mycircuit)\n",
    "    print(counts)\n",
    "    if '000' in counts.keys():\n",
    "        c = counts['000']\n",
    "    else:\n",
    "        c = 0\n",
    "    print('000 is observed',c,'times out of',N)\n",
    "    percentange = round(c/N*100,1)\n",
    "    print(\"the ratio of 000 is \",percentange,\"%\")\n",
    "    print()"
   ]
  },
  {
   "cell_type": "markdown",
   "metadata": {},
   "source": [
    "<a id=\"task6\"></a>\n",
    "<h3> Task 6 </h3>\n",
    "\n",
    "Let $ \\mathsf{p} = 31 $.\n",
    "\n",
    "Create a circuit with three quantum bits and three classical bits.\n",
    "\n",
    "Rotate the qubits with random angles of the form $ k\\frac{2\\pi}{31}, $ where $ k \n",
    "\\in \\{1,\\ldots,30\\}.$\n",
    "\n",
    "Execute your circuit for all streams of lengths from 1 to 30.\n",
    "\n",
    "Calculate the maximum percentage of observing the state $ \\ket{000} $.\n",
    "\n",
    "Repeat this task for a few times.\n",
    "\n",
    "<i>Note that whether a key is in dictionary or not can be checked as follows:</i>\n",
    "\n",
    "    if '000' in counts.keys():\n",
    "        c = counts['000']\n",
    "    else:\n",
    "        c = 0"
   ]
  },
  {
   "cell_type": "markdown",
   "metadata": {},
   "source": [
    "<h3>Solution</h3>"
   ]
  },
  {
   "cell_type": "code",
   "execution_count": 9,
   "metadata": {},
   "outputs": [
    {
     "name": "stdout",
     "output_type": "stream",
     "text": [
      "k1 = 12 k2 = 12 k3 = 30\n",
      "\n",
      "max percentage is 53.5\n"
     ]
    }
   ],
   "source": [
    "from qiskit import QuantumRegister, ClassicalRegister, QuantumCircuit, execute, Aer\n",
    "from math import pi\n",
    "from random import randrange\n",
    "\n",
    "# randomly picked angles of rotations \n",
    "k1 = randrange(1,31)\n",
    "theta1 = k1*2*pi/31\n",
    "k2 = randrange(1,31)\n",
    "theta2 = k2*2*pi/31\n",
    "k3 = randrange(1,31)\n",
    "theta3 = k3*2*pi/31\n",
    "print(\"k1 =\",k1,\"k2 =\",k2,\"k3 =\",k3)\n",
    "print()\n",
    "\n",
    "max_percentange = 0\n",
    "# we read streams of length from 1 to 30\n",
    "for i in range(1,31):\n",
    "    k1 = randrange(1,31)\n",
    "    theta1 = k1*2*pi/31\n",
    "    k2 = randrange(1,31)\n",
    "    theta2 = k2*2*pi/31\n",
    "    k3 = randrange(1,31)\n",
    "    theta3 = k3*2*pi/31\n",
    "    # quantum circuit with three qubits and three bits\n",
    "    qreg =  QuantumRegister(3) \n",
    "    creg = ClassicalRegister(3) \n",
    "    mycircuit = QuantumCircuit(qreg,creg)\n",
    "    # the stream of length i\n",
    "    for j in range(i):\n",
    "        # apply rotations for each symbol\n",
    "        mycircuit.ry(2*theta1,qreg[0]) \n",
    "        mycircuit.ry(2*theta2,qreg[1]) \n",
    "        mycircuit.ry(2*theta3,qreg[2]) \n",
    "    # we measure after reading the whole stream\n",
    "    mycircuit.measure(qreg,creg)\n",
    "    # execute the circuit N times\n",
    "    N = 1000\n",
    "    job = execute(mycircuit,Aer.get_backend('qasm_simulator'),shots=N)\n",
    "    counts = job.result().get_counts(mycircuit)\n",
    "    # print(counts)\n",
    "    if '000' in counts.keys():\n",
    "        c = counts['000']\n",
    "    else:\n",
    "        c = 0\n",
    "    # print('000 is observed',c,'times out of',N)\n",
    "    percentange = round(c/N*100,1)\n",
    "    if max_percentange < percentange: max_percentange = percentange\n",
    "    # print(\"the ration of 000 is \",percentange,\"%\")\n",
    "    # print()\n",
    "print(\"max percentage is\",max_percentange)"
   ]
  },
  {
   "cell_type": "markdown",
   "metadata": {},
   "source": [
    "<a id=\"task7\"></a>\n",
    "<h3> Task 7 </h3>\n",
    "\n",
    "Repeat Task 6 by using four and five qubits."
   ]
  },
  {
   "cell_type": "markdown",
   "metadata": {},
   "source": [
    "<h3>Solution</h3>"
   ]
  },
  {
   "cell_type": "code",
   "execution_count": 4,
   "metadata": {},
   "outputs": [
    {
     "name": "stdout",
     "output_type": "stream",
     "text": [
      "k 0 = 7\n",
      "k 1 = 11\n",
      "k 2 = 9\n",
      "k 3 = 14\n",
      "zeros =  0000\n",
      "\n",
      "max percentage is 20.6\n"
     ]
    }
   ],
   "source": [
    "from qiskit import QuantumRegister, ClassicalRegister, QuantumCircuit, execute, Aer\n",
    "from math import pi\n",
    "from random import randrange\n",
    "\n",
    "number_of_qubits = 4\n",
    "#number_of_qubits = 5\n",
    "# randomly picked angles of rotations \n",
    "theta = []\n",
    "for i in range(number_of_qubits):\n",
    "    k =  randrange(1,31)\n",
    "    print(\"k\",str(i),\"=\",k)\n",
    "    theta += [k*2*pi/31]\n",
    "# print(theta)\n",
    "\n",
    "# we count the number of zeros\n",
    "zeros = ''\n",
    "for i in range(number_of_qubits):\n",
    "    zeros = zeros + '0'\n",
    "print(\"zeros = \",zeros)\n",
    "print()\n",
    "\n",
    "max_percentange = 0\n",
    "# we read streams of length from 1 to 30\n",
    "for i in range(1,31):\n",
    "    # quantum circuit with qubits and bits\n",
    "    qreg =  QuantumRegister(number_of_qubits) \n",
    "    creg = ClassicalRegister(number_of_qubits) \n",
    "    mycircuit = QuantumCircuit(qreg,creg)\n",
    "    # the stream of length i\n",
    "    for j in range(i):\n",
    "        # apply rotations for each symbol\n",
    "        for k in range(number_of_qubits):\n",
    "            mycircuit.ry(2*theta[k],qreg[k]) \n",
    "    # we measure after reading the whole stream\n",
    "    mycircuit.measure(qreg,creg)\n",
    "    # execute the circuit N times\n",
    "    N = 1000\n",
    "    job = execute(mycircuit,Aer.get_backend('qasm_simulator'),shots=N)\n",
    "    counts = job.result().get_counts(mycircuit)\n",
    "    # print(counts)\n",
    "    if zeros in counts.keys():\n",
    "        c = counts[zeros]\n",
    "    else:\n",
    "        c = 0\n",
    "    # print('000 is observed',c,'times out of',N)\n",
    "    percentange = round(c/N*100,1)\n",
    "    if max_percentange < percentange: max_percentange = percentange\n",
    "    # print(\"the ration of 000 is \",percentange,\"%\")\n",
    "    # print()\n",
    "print(\"max percentage is\",max_percentange)"
   ]
  },
  {
   "cell_type": "code",
   "execution_count": null,
   "metadata": {},
   "outputs": [],
   "source": []
  }
 ],
 "metadata": {
  "kernelspec": {
   "display_name": "Python 3",
   "language": "python",
   "name": "python3"
  },
  "language_info": {
   "codemirror_mode": {
    "name": "ipython",
    "version": 3
   },
   "file_extension": ".py",
   "mimetype": "text/x-python",
   "name": "python",
   "nbconvert_exporter": "python",
   "pygments_lexer": "ipython3",
   "version": "3.7.3"
  }
 },
 "nbformat": 4,
 "nbformat_minor": 2
}
