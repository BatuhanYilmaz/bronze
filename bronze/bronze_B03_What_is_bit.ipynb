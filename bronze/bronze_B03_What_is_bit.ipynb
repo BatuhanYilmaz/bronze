{
 "cells": [
  {
   "cell_type": "markdown",
   "metadata": {},
   "source": [
    "<table>\n",
    "    <tr><td align=\"right\" style=\"background-color:#ffffff;\">\n",
    "        <img src=\"../images/logoQTurkey.png\" width=\"25%\" align=\"right\">\n",
    "    </td></tr>\n",
    "    <tr><td align=\"right\" style=\"color:#777777;background-color:#ffffff;font-size:12px;\">\n",
    "        Onurcan Bektaş | July 11, 2019 (created)<br>\n",
    "    </td></tr>\n",
    "    <tr><td align=\"right\" style=\"color:#bbbbbb;background-color:#ffffff;font-size:11px;font-style:italic;\">\n",
    "        This cell contains some macros. If there is a problem with displaying mathematical formulas, please run this cell to load these macros.\n",
    "    </td></tr>\n",
    "</table>\n",
    "$ \\newcommand{\\bra}[1]{\\langle #1|} $\n",
    "$ \\newcommand{\\ket}[1]{|#1\\rangle} $\n",
    "$ \\newcommand{\\braket}[2]{\\langle #1|#2\\rangle} $\n",
    "$ \\newcommand{\\dot}[2]{ #1 \\cdot #2} $\n",
    "$ \\newcommand{\\biginner}[2]{\\left\\langle #1,#2\\right\\rangle} $\n",
    "$ \\newcommand{\\mymatrix}[2]{\\left( \\begin{array}{#1} #2\\end{array} \\right)} $\n",
    "$ \\newcommand{\\myvector}[1]{\\mymatrix{c}{#1}} $\n",
    "$ \\newcommand{\\myrvector}[1]{\\mymatrix{r}{#1}} $\n",
    "$ \\newcommand{\\mypar}[1]{\\left( #1 \\right)} $\n",
    "$ \\newcommand{\\mybigpar}[1]{ \\Big( #1 \\Big)} $\n",
    "$ \\newcommand{\\sqrttwo}{\\frac{1}{\\sqrt{2}}} $\n",
    "$ \\newcommand{\\dsqrttwo}{\\dfrac{1}{\\sqrt{2}}} $\n",
    "$ \\newcommand{\\onehalf}{\\frac{1}{2}} $\n",
    "$ \\newcommand{\\donehalf}{\\dfrac{1}{2}} $\n",
    "$ \\newcommand{\\hadamard}{ \\mymatrix{rr}{ \\sqrttwo & \\sqrttwo \\\\ \\sqrttwo & -\\sqrttwo }} $\n",
    "$ \\newcommand{\\vzero}{\\myvector{1\\\\0}} $\n",
    "$ \\newcommand{\\vone}{\\myvector{0\\\\1}} $\n",
    "$ \\newcommand{\\vhadamardzero}{\\myvector{ \\sqrttwo \\\\  \\sqrttwo } } $\n",
    "$ \\newcommand{\\vhadamardone}{ \\myrvector{ \\sqrttwo \\\\ -\\sqrttwo } } $\n",
    "$ \\newcommand{\\myarray}[2]{ \\begin{array}{#1}#2\\end{array}} $\n",
    "$ \\newcommand{\\X}{ \\mymatrix{cc}{0 & 1 \\\\ 1 & 0}  } $\n",
    "$ \\newcommand{\\Z}{ \\mymatrix{rr}{1 & 0 \\\\ 0 & -1}  } $\n",
    "$ \\newcommand{\\Htwo}{ \\mymatrix{rrrr}{ \\frac{1}{2} & \\frac{1}{2} & \\frac{1}{2} & \\frac{1}{2} \\\\ \\frac{1}{2} & -\\frac{1}{2} & \\frac{1}{2} & -\\frac{1}{2} \\\\ \\frac{1}{2} & \\frac{1}{2} & -\\frac{1}{2} & -\\frac{1}{2} \\\\ \\frac{1}{2} & -\\frac{1}{2} & -\\frac{1}{2} & \\frac{1}{2} } } $\n",
    "$ \\newcommand{\\CNOT}{ \\mymatrix{cccc}{1 & 0 & 0 & 0 \\\\ 0 & 1 & 0 & 0 \\\\ 0 & 0 & 0 & 1 \\\\ 0 & 0 & 1 & 0} } $\n",
    "$ \\newcommand{\\norm}[1]{ \\left\\lVert #1 \\right\\rVert } $"
   ]
  },
  {
   "cell_type": "markdown",
   "metadata": {},
   "source": [
    "I think, a deep understanding of any subject comes from a good understanding of its basic concepts, so with that in mind, let us start with the basics."
   ]
  },
  {
   "cell_type": "markdown",
   "metadata": {},
   "source": [
    "<h1>What the heck is bit ?</h1>"
   ]
  },
  {
   "cell_type": "markdown",
   "metadata": {},
   "source": [
    "A: it is basically anything that can have a binary value. \n",
    "\n",
    "I'm sure you have seen lots of people talking about 0s and 1s. What they are actually referring to are the binary states of some physical system; they call one of the states as 0, and the other one as 1 (it does not matter which state is called 0; it is totally arbitrary)."
   ]
  },
  {
   "cell_type": "markdown",
   "metadata": {},
   "source": [
    "For example, my hand can be a bit; let's us agree priori that if I open my palms as flat as possible, then it is 1, and if I close them, then it is 0."
   ]
  },
  {
   "cell_type": "markdown",
   "metadata": {},
   "source": [
    "So, if I were to send you a number (for example, I could be trying to authenticate by sending my ID and passport), I can first write the number in base 2, and then describe that number to you by a sequence of hand gestures. As an example, the number 12 is equivalent to (in this language of hand gestures): 🖐🖐✊✊, since \n",
    "$ (12)_{10} = (1100)_2 $ (of course, assuming that we have agreed to interpret 🖐 as 1, and ✊ as 0).\n"
   ]
  },
  {
   "cell_type": "markdown",
   "metadata": {},
   "source": [
    "Now, what is the function of my hand here? Basically it is the tool that I'm using to transfer information to another party in binary format. \n",
    "\n",
    "Moreover, I can do better than just transfering information. I can even store some information using my hand. Say, you have conducted an experiment, and the result is \"positive\"; you can come and open my palms (and I promise, I will not move them afterwards if I don't have to) to \"store\" that \"positive\" result. (of course, you still have to remember that and open palm corresponds to a \"positive\" result, but that is not the point in here). Now, at a later time, if you want to retrieve (i.e remember) the result of that earlier experiment, you can come and observe whether my palms are open or not; if they are, the result was positive, and if not, the result was negative.\n"
   ]
  },
  {
   "cell_type": "markdown",
   "metadata": {},
   "source": [
    "Now, as we have observed, even a hand can act as a BIT as long as you associate its certain gestures to the common language. In the case of computers, this is the binary language containing only the letters 0 and 1."
   ]
  },
  {
   "cell_type": "markdown",
   "metadata": {},
   "source": [
    "[Start of Digression]<b> Why necessarily binary values, by the way? </b> Well, it is the only language that we can communicate with machines. [End of Digression]"
   ]
  },
  {
   "cell_type": "markdown",
   "metadata": {},
   "source": [
    "As you may already guessed by now, using our hands to handle information on computers is not <i>handy</i>. Without any prior reason, let us use electrons instead of our hands (since there are more of the former than the latter), and use its spin value as our binary data. \n",
    "\n",
    "To determine the state (the value) of our bit (our electron), we will measure the spin of the electron: if it is UP, we will decode (or understand) it as 1, and if it is DOWN, we will decode it as 0 (the choice is again arbitrary).\n"
   ]
  },
  {
   "cell_type": "markdown",
   "metadata": {},
   "source": [
    "[Start of Digression] <b> Wait a minute, Isn't what is UP and what is DOWN also arbitrary ?</b> In fact, it is; that is \n",
    "why before agreeing on whether UP(or DOWN) will mean 1 or 0, you have to agree on what is UP(or DOWN).[End of Digression]"
   ]
  },
  {
   "cell_type": "markdown",
   "metadata": {},
   "source": [
    "Well, funny thing about the spin of an electron is that when you don't measure it (i.e don't disturb it), the spin (value) itself is instead of being either strictly UP or strictly DOWN, it is a \"superposition\" of being UP and DOWN at the same time. \n"
   ]
  },
  {
   "cell_type": "markdown",
   "metadata": {},
   "source": [
    "You might be asking <b> what the heck is a superposition?</b> Well, before answering that, let me give you an analogy to set the stage, and ask you </b>\"which direction are you looking at?\"; at any given time, you can either face north, or west (let us forget south and east, since this is basically what the rest of the whole world is doing too) or north-west, or any other direction between. So, your answer (with high probability) would be some direction between north and west. In the language of Mathematics, you could express your direction at any given moment as a linear combination of two vectors, one of which faces north and the other which faces west.So, your \"direction vector\" (i.e the vector which points in the direction that you are facing) would have components both in the direction north and the west. In that sense, the direction you are facing is not strictly either north or west, but a combination of both. The \"superposition\" is almost like this; (turning back to our orijinal example), at any given moment, the spin of our electron is not strictly UP or DOWN, but a combination of both.\n",
    "\n",
    "Without digressing, it is usefull to note that, the above anology between superpositon of a spin being UP and DOWN, and facing toward a direction between NORTH and WEST is quite close that we use the same Mathematical tools (i.e Linear Algebra, and in particular vectors) to describe both situations."
   ]
  },
  {
   "cell_type": "markdown",
   "metadata": {},
   "source": [
    "I think, a deep understanding of any subject comes from a good understanding of its basic concepts, so with that in mind, let us start with the basics."
   ]
  },
  {
   "cell_type": "markdown",
   "metadata": {},
   "source": [
    "<h1>What the heck is bit ?</h1>"
   ]
  },
  {
   "cell_type": "markdown",
   "metadata": {},
   "source": [
    "A: it is basically anything that can have a binary value. \n",
    "\n",
    "I'm sure you have seen lots of people talking about 0s and 1s. What they are actually referring to are the binary states of some physical system; they call one of the states as 0, and the other one as 1 (it does not matter which state is called 0; it is totally arbitrary)."
   ]
  },
  {
   "cell_type": "markdown",
   "metadata": {},
   "source": [
    "For example, my hand can be a bit; let's us agree priori that if I open my palms as flat as possible, then it is 1, and if I close them, then it is 0."
   ]
  },
  {
   "cell_type": "markdown",
   "metadata": {},
   "source": [
    "So, if I were to send you a number (for example, I could be trying to authenticate by sending my ID and passport), I can first write the number in base 2, and then describe that number to you by a sequence of hand gestures. As an example, the number 12 is equivalent to (in this language of hand gestures): 🖐🖐✊✊, since \n",
    "$ (12)_{10} = (1100)_2 $ (of course, assuming that we have agreed to interpret 🖐 as 1, and ✊ as 0).\n"
   ]
  },
  {
   "cell_type": "markdown",
   "metadata": {},
   "source": [
    "Now, what is the function of my hand here? Basically it is the tool that I'm using to transfer information to another party in binary format. \n",
    "\n",
    "Moreover, I can do better than just transfering information. I can even store some information using my hand. Say, you have conducted an experiment, and the result is \"positive\"; you can come and open my palms (and I promise, I will not move them afterwards if I don't have to) to \"store\" that \"positive\" result. (of course, you still have to remember that and open palm corresponds to a \"positive\" result, but that is not the point in here). Now, at a later time, if you want to retrieve (i.e remember) the result of that earlier experiment, you can come and observe whether my palms are open or not; if they are, the result was positive, and if not, the result was negative.\n"
   ]
  },
  {
   "cell_type": "markdown",
   "metadata": {},
   "source": [
    "Now, as we have observed, even a hand can act as a BIT as long as you associate its certain gestures to the common language. In the case of computers, this is the binary language containing only the letters 0 and 1."
   ]
  },
  {
   "cell_type": "markdown",
   "metadata": {},
   "source": [
    "[Start of Digression]<b> Why necessarily binary values, by the way? </b> Well, it is the only language that we can communicate with machines. [End of Digression]"
   ]
  },
  {
   "cell_type": "markdown",
   "metadata": {},
   "source": [
    "As you may already guessed by now, using our hands to handle information on computers is not <i>handy</i>. Without any prior reason, let us use electrons instead of our hands (since there are more of the former than the latter), and use its spin value as our binary data. \n",
    "\n",
    "To determine the state (the value) of our bit (our electron), we will measure the spin of the electron: if it is UP, we will decode (or understand) it as 1, and if it is DOWN, we will decode it as 0 (the choice is again arbitrary).\n"
   ]
  },
  {
   "cell_type": "markdown",
   "metadata": {},
   "source": [
    "[Start of Digression] <b> Wait a minute, Isn't what is UP and what is DOWN also arbitrary ?</b> In fact, it is; that is \n",
    "why before agreeing on whether UP(or DOWN) will mean 1 or 0, you have to agree on what is UP(or DOWN).[End of Digression]"
   ]
  },
  {
   "cell_type": "markdown",
   "metadata": {},
   "source": [
    "Well, funny thing about the spin of an electron is that when you don't measure it (i.e don't disturb it), the spin (value) itself is instead of being either strictly UP or strictly DOWN, it is a \"superposition\" of being UP and DOWN at the same time. \n"
   ]
  },
  {
   "cell_type": "markdown",
   "metadata": {},
   "source": [
    "You might be asking <b> what the heck is a superposition?</b> Well, before answering that, let me give you an analogy to set the stage, and ask you </b>\"which direction are you looking at?\"; at any given time, you can either face north, or west (let us forget south and east, since this is basically what the rest of the whole world is doing too) or north-west, or any other direction between. So, your answer (with high probability) would be some direction between north and west. In the language of Mathematics, you could express your direction at any given moment as a linear combination of two vectors, one of which faces north and the other which faces west.So, your \"direction vector\" (i.e the vector which points in the direction that you are facing) would have components both in the direction north and the west. In that sense, the direction you are facing is not strictly either north or west, but a combination of both. The \"superposition\" is almost like this; (turning back to our orijinal example), at any given moment, the spin of our electron is not strictly UP or DOWN, but a combination of both.\n",
    "\n",
    "Without digressing, it is usefull to note that, the above anology between superpositon of a spin being UP and DOWN, and facing toward a direction between NORTH and WEST is quite close that we use the same Mathematical tools (i.e Linear Algebra, and in particular vectors) to describe both situations."
   ]
  }
 ],
 "metadata": {
  "kernelspec": {
   "display_name": "Python 3",
   "language": "python",
   "name": "python3"
  },
  "language_info": {
   "codemirror_mode": {
    "name": "ipython",
    "version": 3
   },
   "file_extension": ".py",
   "mimetype": "text/x-python",
   "name": "python",
   "nbconvert_exporter": "python",
   "pygments_lexer": "ipython3",
   "version": "3.7.3"
  }
 },
 "nbformat": 4,
 "nbformat_minor": 4
}
