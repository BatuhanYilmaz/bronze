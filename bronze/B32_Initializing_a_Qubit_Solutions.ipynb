{
 "cells": [
  {
   "cell_type": "markdown",
   "metadata": {},
   "source": [
    "<table>\n",
    "    <tr><td align=\"right\" style=\"background-color:#ffffff;\">\n",
    "        <img src=\"../images/logo.jpg\" width=\"20%\" align=\"right\">\n",
    "    </td></tr>\n",
    "    <tr><td align=\"right\" style=\"color:#777777;background-color:#ffffff;font-size:12px;\">\n",
    "        Abuzer Yakaryilmaz | April 04, 2019 (updated)<br>\n",
    "        Özlem Salehi | July 07, 2019 (updated)\n",
    "    </td></tr>\n",
    "    <tr><td align=\"right\" style=\"color:#bbbbbb;background-color:#ffffff;font-size:11px;font-style:italic;\">\n",
    "        This cell contains some macros. If there is a problem with displaying mathematical formulas, please run this cell to load these macros.\n",
    "    </td></tr>\n",
    "</table>\n",
    "$ \\newcommand{\\bra}[1]{\\langle #1|} $\n",
    "$ \\newcommand{\\ket}[1]{|#1\\rangle} $\n",
    "$ \\newcommand{\\braket}[2]{\\langle #1|#2\\rangle} $\n",
    "$ \\newcommand{\\dot}[2]{ #1 \\cdot #2} $\n",
    "$ \\newcommand{\\biginner}[2]{\\left\\langle #1,#2\\right\\rangle} $\n",
    "$ \\newcommand{\\mymatrix}[2]{\\left( \\begin{array}{#1} #2\\end{array} \\right)} $\n",
    "$ \\newcommand{\\myvector}[1]{\\mymatrix{c}{#1}} $\n",
    "$ \\newcommand{\\myrvector}[1]{\\mymatrix{r}{#1}} $\n",
    "$ \\newcommand{\\mypar}[1]{\\left( #1 \\right)} $\n",
    "$ \\newcommand{\\mybigpar}[1]{ \\Big( #1 \\Big)} $\n",
    "$ \\newcommand{\\sqrttwo}{\\frac{1}{\\sqrt{2}}} $\n",
    "$ \\newcommand{\\dsqrttwo}{\\dfrac{1}{\\sqrt{2}}} $\n",
    "$ \\newcommand{\\onehalf}{\\frac{1}{2}} $\n",
    "$ \\newcommand{\\donehalf}{\\dfrac{1}{2}} $\n",
    "$ \\newcommand{\\hadamard}{ \\mymatrix{rr}{ \\sqrttwo & \\sqrttwo \\\\ \\sqrttwo & -\\sqrttwo }} $\n",
    "$ \\newcommand{\\vzero}{\\myvector{1\\\\0}} $\n",
    "$ \\newcommand{\\vone}{\\myvector{0\\\\1}} $\n",
    "$ \\newcommand{\\vhadamardzero}{\\myvector{ \\sqrttwo \\\\  \\sqrttwo } } $\n",
    "$ \\newcommand{\\vhadamardone}{ \\myrvector{ \\sqrttwo \\\\ -\\sqrttwo } } $\n",
    "$ \\newcommand{\\myarray}[2]{ \\begin{array}{#1}#2\\end{array}} $\n",
    "$ \\newcommand{\\X}{ \\mymatrix{cc}{0 & 1 \\\\ 1 & 0}  } $\n",
    "$ \\newcommand{\\Z}{ \\mymatrix{rr}{1 & 0 \\\\ 0 & -1}  } $\n",
    "$ \\newcommand{\\Htwo}{ \\mymatrix{rrrr}{ \\frac{1}{2} & \\frac{1}{2} & \\frac{1}{2} & \\frac{1}{2} \\\\ \\frac{1}{2} & -\\frac{1}{2} & \\frac{1}{2} & -\\frac{1}{2} \\\\ \\frac{1}{2} & \\frac{1}{2} & -\\frac{1}{2} & -\\frac{1}{2} \\\\ \\frac{1}{2} & -\\frac{1}{2} & -\\frac{1}{2} & \\frac{1}{2} } } $\n",
    "$ \\newcommand{\\CNOT}{ \\mymatrix{cccc}{1 & 0 & 0 & 0 \\\\ 0 & 1 & 0 & 0 \\\\ 0 & 0 & 0 & 1 \\\\ 0 & 0 & 1 & 0} } $\n",
    "$ \\newcommand{\\norm}[1]{ \\left\\lVert #1 \\right\\rVert } $"
   ]
  },
  {
   "cell_type": "markdown",
   "metadata": {},
   "source": [
    "<h2> <font color=\"blue\"> Solutions for </font> Initializing a Qubit </h2>"
   ]
  },
  {
   "cell_type": "markdown",
   "metadata": {},
   "source": [
    "<a id=\"task1\"></a>\n",
    "<h3>Task 1</h3>\n",
    "    \n",
    "Recall that any quantum state can be specified by an angle. Collect statistics about $\\sin(\\theta)$ (or $\\cos(\\theta)$), to determine the state.\n",
    "\n",
    "<img src=\"../images/sincos.png\">"
   ]
  },
  {
   "cell_type": "markdown",
   "metadata": {},
   "source": [
    "<h3> Solution </h3>"
   ]
  },
  {
   "cell_type": "markdown",
   "metadata": {},
   "source": [
    "\n",
    "We define a measurement and execute the circuit 100 times.\n",
    "\n",
    "Then, we check the number of 1s, say $ N $.\n",
    "\n",
    "We expect $ \\sin^2(\\theta) \\approx N/100 $.\n",
    "\n",
    "In the other words, $ \\theta \\approx sin^{-1} \\mypar{ \\sqrt{ \\frac{n}{100} } } = arcsin \\mypar{ \\sqrt{ \\frac{n}{100} } }  $. "
   ]
  },
  {
   "cell_type": "code",
   "execution_count": 9,
   "metadata": {},
   "outputs": [
    {
     "name": "stdout",
     "output_type": "stream",
     "text": [
      "2.6221826681962805\n"
     ]
    }
   ],
   "source": [
    "from random import randrange\n",
    "from math import pi\n",
    " \n",
    "theta = randrange(18000)/18000 * pi\n",
    "print(theta)"
   ]
  },
  {
   "cell_type": "code",
   "execution_count": 10,
   "metadata": {},
   "outputs": [
    {
     "data": {
      "text/plain": [
       "<qiskit.circuit.instructionset.InstructionSet at 0x183fdbcc828>"
      ]
     },
     "execution_count": 10,
     "metadata": {},
     "output_type": "execute_result"
    }
   ],
   "source": [
    "# import all necessary objects and methods for quantum circuits\n",
    "from qiskit import QuantumRegister, ClassicalRegister, QuantumCircuit, execute, Aer\n",
    "# import randrange for random choices\n",
    "from random import randrange\n",
    "\n",
    "# we define a quantum circuit with one qubit and one bit\n",
    "qreg1 =  QuantumRegister(1) # quantum register with a single qubit\n",
    "creg1 = ClassicalRegister(1) # classical register with a single bit\n",
    "circuit1 = QuantumCircuit(qreg1,creg1) # quantum circuit with quantum and classical registers\n",
    "\n",
    "# rotate the qubit with theta\n",
    "circuit1.ry(2*theta,qreg1[0]) \n",
    "\n",
    "circuit1.measure(qreg1,creg1)"
   ]
  },
  {
   "cell_type": "code",
   "execution_count": 16,
   "metadata": {},
   "outputs": [
    {
     "name": "stdout",
     "output_type": "stream",
     "text": [
      "the number of observed ones 233\n",
      "theta1 is 0.5037358879309719\n"
     ]
    }
   ],
   "source": [
    "# execute the program 100 times\n",
    "job = execute(circuit1,Aer.get_backend('qasm_simulator'),shots=1000)\n",
    "\n",
    "counts = job.result().get_counts(circuit1)\n",
    "\n",
    "number_of_ones = 0\n",
    "if '1' in counts:\n",
    "    number_of_ones = counts['1']\n",
    "print(\"the number of observed ones\",number_of_ones)\n",
    "\n",
    "# import asin (inverse of sine function) from math\n",
    "from math import asin\n",
    "\n",
    "theta1 = asin((number_of_ones/1000)**0.5)\n",
    "\n",
    "print(\"theta1 is\",theta1)"
   ]
  },
  {
   "cell_type": "markdown",
   "metadata": {},
   "source": [
    "<a id=\"task2\"></a>\n",
    "<h3>Task 2</h3>\n",
    "\n",
    "Determine $\\theta$ by considering the two cases (i.r. rotating the states and measuring afterwards for each case)."
   ]
  },
  {
   "cell_type": "markdown",
   "metadata": {},
   "source": [
    "<h3> Solution </h3>"
   ]
  },
  {
   "cell_type": "code",
   "execution_count": 17,
   "metadata": {
    "scrolled": true
   },
   "outputs": [
    {
     "name": "stdout",
     "output_type": "stream",
     "text": [
      "the number of observed 0s in the first case is 144\n"
     ]
    }
   ],
   "source": [
    "# case 1\n",
    "\n",
    "qreg2 =  QuantumRegister(1) # quantum register with a single qubit\n",
    "creg2 = ClassicalRegister(1) # classical register with a single bit\n",
    "circuit2 = QuantumCircuit(qreg2,creg2) # quantum circuit with quantum and classical registers\n",
    "\n",
    "# rotate the qubit with theta\n",
    "circuit2.ry(2*theta,qreg2[0]) \n",
    "# rotate the qubit with -theta1\n",
    "circuit2.ry(-2*theta1,qreg2[0]) \n",
    "\n",
    "circuit2.measure(qreg2,creg2)\n",
    "\n",
    "# execute the program 100 times\n",
    "job = execute(circuit2,Aer.get_backend('qasm_simulator'),shots=500)\n",
    "\n",
    "counts = job.result().get_counts(circuit2)\n",
    "\n",
    "case_1 = 0\n",
    "if '0' in counts:\n",
    "    case_1 = counts['0']\n",
    "print(\"the number of observed 0s in the first case is\",case_1)"
   ]
  },
  {
   "cell_type": "code",
   "execution_count": 18,
   "metadata": {},
   "outputs": [
    {
     "name": "stdout",
     "output_type": "stream",
     "text": [
      "the number of observed 0s in the second case is 500\n"
     ]
    }
   ],
   "source": [
    "# case 2\n",
    "\n",
    "qreg3 =  QuantumRegister(1) # quantum register with a single qubit\n",
    "creg3 = ClassicalRegister(1) # classical register with a single bit\n",
    "circuit3 = QuantumCircuit(qreg3,creg3) # quantum circuit with quantum and classical registers\n",
    "\n",
    "# rotate the qubit with theta\n",
    "circuit3.ry(2*theta,qreg3[0]) \n",
    "# rotate the qubit with +theta1\n",
    "circuit3.ry(+2*theta1,qreg3[0])\n",
    "\n",
    "circuit3.measure(qreg3,creg3)\n",
    "\n",
    "# execute the program 100 times\n",
    "job = execute(circuit3,Aer.get_backend('qasm_simulator'),shots=500)\n",
    "\n",
    "counts = job.result().get_counts(circuit3)\n",
    "\n",
    "case_2 = 0\n",
    "if '0' in counts:\n",
    "    case_2 = counts['0']\n",
    "print(\"the number of observed 0s in the second case is\",case_2)"
   ]
  },
  {
   "cell_type": "code",
   "execution_count": 19,
   "metadata": {},
   "outputs": [
    {
     "name": "stdout",
     "output_type": "stream",
     "text": [
      "theta should be in the second quadrant\n"
     ]
    }
   ],
   "source": [
    "if case_1 > case_2:\n",
    "    print(\"theta should be in the first quadrant\")\n",
    "else:\n",
    "    print(\"theta should be in the second quadrant\")"
   ]
  },
  {
   "cell_type": "code",
   "execution_count": null,
   "metadata": {},
   "outputs": [],
   "source": []
  }
 ],
 "metadata": {
  "kernelspec": {
   "display_name": "Python 3",
   "language": "python",
   "name": "python3"
  },
  "language_info": {
   "codemirror_mode": {
    "name": "ipython",
    "version": 3
   },
   "file_extension": ".py",
   "mimetype": "text/x-python",
   "name": "python",
   "nbconvert_exporter": "python",
   "pygments_lexer": "ipython3",
   "version": "3.7.3"
  }
 },
 "nbformat": 4,
 "nbformat_minor": 2
}
